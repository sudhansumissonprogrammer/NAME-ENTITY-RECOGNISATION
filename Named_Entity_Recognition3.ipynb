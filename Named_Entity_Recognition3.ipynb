{
 "cells": [
  {
   "cell_type": "markdown",
   "metadata": {
    "id": "8Y3wcKeBwqap"
   },
   "source": [
    "# Named Entity Recognition (NER)"
   ]
  },
  {
   "cell_type": "markdown",
   "metadata": {
    "id": "QNh6RWEewqar"
   },
   "source": [
    "Named Entity Recognition is the most important or I would say the starting step in Information Retrieval. Information Retrieval is the technique to extract important and useful information from unstructured raw text documents. Named Entity Recognition NER works by locating and identifying the named entities present in unstructured text into the standard categories such as person names, locations, organizations, time expressions, quantities, monetary values, percentage, codes etc. Spacy comes with an extremely fast statistical entity recognition system that assigns labels to contiguous spans of tokens.\n"
   ]
  },
  {
   "cell_type": "markdown",
   "metadata": {
    "id": "iz7LeuTSwqar"
   },
   "source": [
    "Spacy provides option to add arbitrary classes to entity recognition system and update the model to even include the new examples apart from already defined entities within model."
   ]
  },
  {
   "cell_type": "markdown",
   "metadata": {
    "id": "P0y2e6Miwqas"
   },
   "source": [
    "Spacy has the ‘ner’ pipeline component that identifies token spans fitting a predetermined set of named entities. These are available as the ‘ents’ property of a Doc object."
   ]
  },
  {
   "cell_type": "code",
   "execution_count": 2,
   "metadata": {
    "id": "8zxF-SxGqRyU"
   },
   "outputs": [
    {
     "name": "stdout",
     "output_type": "stream",
     "text": [
      "Defaulting to user installation because normal site-packages is not writeable\n",
      "Collecting spacy\n",
      "  Downloading spacy-3.8.2-cp312-cp312-win_amd64.whl.metadata (27 kB)\n",
      "Collecting spacy-legacy<3.1.0,>=3.0.11 (from spacy)\n",
      "  Downloading spacy_legacy-3.0.12-py2.py3-none-any.whl.metadata (2.8 kB)\n",
      "Collecting spacy-loggers<2.0.0,>=1.0.0 (from spacy)\n",
      "  Downloading spacy_loggers-1.0.5-py3-none-any.whl.metadata (23 kB)\n",
      "Collecting murmurhash<1.1.0,>=0.28.0 (from spacy)\n",
      "  Downloading murmurhash-1.0.10-cp312-cp312-win_amd64.whl.metadata (2.0 kB)\n",
      "Collecting cymem<2.1.0,>=2.0.2 (from spacy)\n",
      "  Downloading cymem-2.0.8-cp312-cp312-win_amd64.whl.metadata (8.6 kB)\n",
      "Collecting preshed<3.1.0,>=3.0.2 (from spacy)\n",
      "  Downloading preshed-3.0.9-cp312-cp312-win_amd64.whl.metadata (2.2 kB)\n",
      "Collecting thinc<8.4.0,>=8.3.0 (from spacy)\n",
      "  Downloading thinc-8.3.2-cp312-cp312-win_amd64.whl.metadata (15 kB)\n",
      "Collecting wasabi<1.2.0,>=0.9.1 (from spacy)\n",
      "  Downloading wasabi-1.1.3-py3-none-any.whl.metadata (28 kB)\n",
      "Collecting srsly<3.0.0,>=2.4.3 (from spacy)\n",
      "  Downloading srsly-2.4.8-cp312-cp312-win_amd64.whl.metadata (20 kB)\n",
      "Collecting catalogue<2.1.0,>=2.0.6 (from spacy)\n",
      "  Downloading catalogue-2.0.10-py3-none-any.whl.metadata (14 kB)\n",
      "Collecting weasel<0.5.0,>=0.1.0 (from spacy)\n",
      "  Downloading weasel-0.4.1-py3-none-any.whl.metadata (4.6 kB)\n",
      "Collecting typer<1.0.0,>=0.3.0 (from spacy)\n",
      "  Downloading typer-0.13.1-py3-none-any.whl.metadata (15 kB)\n",
      "Collecting tqdm<5.0.0,>=4.38.0 (from spacy)\n",
      "  Downloading tqdm-4.67.0-py3-none-any.whl.metadata (57 kB)\n",
      "Collecting requests<3.0.0,>=2.13.0 (from spacy)\n",
      "  Downloading requests-2.32.3-py3-none-any.whl.metadata (4.6 kB)\n",
      "Collecting pydantic!=1.8,!=1.8.1,<3.0.0,>=1.7.4 (from spacy)\n",
      "  Downloading pydantic-2.9.2-py3-none-any.whl.metadata (149 kB)\n",
      "Collecting jinja2 (from spacy)\n",
      "  Using cached jinja2-3.1.4-py3-none-any.whl.metadata (2.6 kB)\n",
      "Collecting setuptools (from spacy)\n",
      "  Downloading setuptools-75.5.0-py3-none-any.whl.metadata (6.8 kB)\n",
      "Requirement already satisfied: packaging>=20.0 in c:\\users\\asus\\appdata\\roaming\\python\\python312\\site-packages (from spacy) (24.2)\n",
      "Collecting langcodes<4.0.0,>=3.2.0 (from spacy)\n",
      "  Downloading langcodes-3.5.0-py3-none-any.whl.metadata (29 kB)\n",
      "Requirement already satisfied: numpy>=1.19.0 in c:\\users\\asus\\appdata\\roaming\\python\\python312\\site-packages (from spacy) (2.1.3)\n",
      "Collecting language-data>=1.2 (from langcodes<4.0.0,>=3.2.0->spacy)\n",
      "  Downloading language_data-1.3.0-py3-none-any.whl.metadata (4.3 kB)\n",
      "Collecting annotated-types>=0.6.0 (from pydantic!=1.8,!=1.8.1,<3.0.0,>=1.7.4->spacy)\n",
      "  Downloading annotated_types-0.7.0-py3-none-any.whl.metadata (15 kB)\n",
      "Collecting pydantic-core==2.23.4 (from pydantic!=1.8,!=1.8.1,<3.0.0,>=1.7.4->spacy)\n",
      "  Downloading pydantic_core-2.23.4-cp312-none-win_amd64.whl.metadata (6.7 kB)\n",
      "Collecting typing-extensions>=4.6.1 (from pydantic!=1.8,!=1.8.1,<3.0.0,>=1.7.4->spacy)\n",
      "  Downloading typing_extensions-4.12.2-py3-none-any.whl.metadata (3.0 kB)\n",
      "Collecting charset-normalizer<4,>=2 (from requests<3.0.0,>=2.13.0->spacy)\n",
      "  Downloading charset_normalizer-3.4.0-cp312-cp312-win_amd64.whl.metadata (34 kB)\n",
      "Collecting idna<4,>=2.5 (from requests<3.0.0,>=2.13.0->spacy)\n",
      "  Downloading idna-3.10-py3-none-any.whl.metadata (10 kB)\n",
      "Collecting urllib3<3,>=1.21.1 (from requests<3.0.0,>=2.13.0->spacy)\n",
      "  Downloading urllib3-2.2.3-py3-none-any.whl.metadata (6.5 kB)\n",
      "Collecting certifi>=2017.4.17 (from requests<3.0.0,>=2.13.0->spacy)\n",
      "  Downloading certifi-2024.8.30-py3-none-any.whl.metadata (2.2 kB)\n",
      "Collecting blis<1.1.0,>=1.0.0 (from thinc<8.4.0,>=8.3.0->spacy)\n",
      "  Downloading blis-1.0.1-cp312-cp312-win_amd64.whl.metadata (7.8 kB)\n",
      "Collecting confection<1.0.0,>=0.0.1 (from thinc<8.4.0,>=8.3.0->spacy)\n",
      "  Downloading confection-0.1.5-py3-none-any.whl.metadata (19 kB)\n",
      "Collecting numpy>=1.19.0 (from spacy)\n",
      "  Downloading numpy-2.0.2-cp312-cp312-win_amd64.whl.metadata (59 kB)\n",
      "Requirement already satisfied: colorama in c:\\users\\asus\\appdata\\roaming\\python\\python312\\site-packages (from tqdm<5.0.0,>=4.38.0->spacy) (0.4.6)\n",
      "Collecting click>=8.0.0 (from typer<1.0.0,>=0.3.0->spacy)\n",
      "  Using cached click-8.1.7-py3-none-any.whl.metadata (3.0 kB)\n",
      "Collecting shellingham>=1.3.0 (from typer<1.0.0,>=0.3.0->spacy)\n",
      "  Downloading shellingham-1.5.4-py2.py3-none-any.whl.metadata (3.5 kB)\n",
      "Collecting rich>=10.11.0 (from typer<1.0.0,>=0.3.0->spacy)\n",
      "  Downloading rich-13.9.4-py3-none-any.whl.metadata (18 kB)\n",
      "Collecting cloudpathlib<1.0.0,>=0.7.0 (from weasel<0.5.0,>=0.1.0->spacy)\n",
      "  Downloading cloudpathlib-0.20.0-py3-none-any.whl.metadata (14 kB)\n",
      "Collecting smart-open<8.0.0,>=5.2.1 (from weasel<0.5.0,>=0.1.0->spacy)\n",
      "  Downloading smart_open-7.0.5-py3-none-any.whl.metadata (24 kB)\n",
      "Collecting MarkupSafe>=2.0 (from jinja2->spacy)\n",
      "  Downloading MarkupSafe-3.0.2-cp312-cp312-win_amd64.whl.metadata (4.1 kB)\n",
      "Collecting marisa-trie>=1.1.0 (from language-data>=1.2->langcodes<4.0.0,>=3.2.0->spacy)\n",
      "  Downloading marisa_trie-1.2.1-cp312-cp312-win_amd64.whl.metadata (9.3 kB)\n",
      "Collecting markdown-it-py>=2.2.0 (from rich>=10.11.0->typer<1.0.0,>=0.3.0->spacy)\n",
      "  Downloading markdown_it_py-3.0.0-py3-none-any.whl.metadata (6.9 kB)\n",
      "Requirement already satisfied: pygments<3.0.0,>=2.13.0 in c:\\users\\asus\\appdata\\roaming\\python\\python312\\site-packages (from rich>=10.11.0->typer<1.0.0,>=0.3.0->spacy) (2.18.0)\n",
      "Collecting wrapt (from smart-open<8.0.0,>=5.2.1->weasel<0.5.0,>=0.1.0->spacy)\n",
      "  Downloading wrapt-1.16.0-cp312-cp312-win_amd64.whl.metadata (6.8 kB)\n",
      "Collecting mdurl~=0.1 (from markdown-it-py>=2.2.0->rich>=10.11.0->typer<1.0.0,>=0.3.0->spacy)\n",
      "  Downloading mdurl-0.1.2-py3-none-any.whl.metadata (1.6 kB)\n",
      "Downloading spacy-3.8.2-cp312-cp312-win_amd64.whl (11.8 MB)\n",
      "   ---------------------------------------- 0.0/11.8 MB ? eta -:--:--\n",
      "   ---------------------------------------- 0.0/11.8 MB ? eta -:--:--\n",
      "    --------------------------------------- 0.3/11.8 MB ? eta -:--:--\n",
      "   - -------------------------------------- 0.5/11.8 MB 1.3 MB/s eta 0:00:09\n",
      "   --- ------------------------------------ 1.0/11.8 MB 1.4 MB/s eta 0:00:08\n",
      "   ---- ----------------------------------- 1.3/11.8 MB 1.4 MB/s eta 0:00:08\n",
      "   ---- ----------------------------------- 1.3/11.8 MB 1.4 MB/s eta 0:00:08\n",
      "   ------ --------------------------------- 1.8/11.8 MB 1.3 MB/s eta 0:00:08\n",
      "   ------- -------------------------------- 2.1/11.8 MB 1.3 MB/s eta 0:00:08\n",
      "   -------- ------------------------------- 2.4/11.8 MB 1.3 MB/s eta 0:00:08\n",
      "   -------- ------------------------------- 2.6/11.8 MB 1.3 MB/s eta 0:00:07\n",
      "   --------- ------------------------------ 2.9/11.8 MB 1.4 MB/s eta 0:00:07\n",
      "   ---------- ----------------------------- 3.1/11.8 MB 1.4 MB/s eta 0:00:07\n",
      "   ----------- ---------------------------- 3.4/11.8 MB 1.4 MB/s eta 0:00:07\n",
      "   ------------ --------------------------- 3.7/11.8 MB 1.4 MB/s eta 0:00:06\n",
      "   ------------ --------------------------- 3.7/11.8 MB 1.4 MB/s eta 0:00:06\n",
      "   ------------ --------------------------- 3.7/11.8 MB 1.4 MB/s eta 0:00:06\n",
      "   ------------ --------------------------- 3.7/11.8 MB 1.4 MB/s eta 0:00:06\n",
      "   ------------ --------------------------- 3.7/11.8 MB 1.4 MB/s eta 0:00:06\n",
      "   ------------- -------------------------- 3.9/11.8 MB 1.1 MB/s eta 0:00:08\n",
      "   ------------- -------------------------- 3.9/11.8 MB 1.1 MB/s eta 0:00:08\n",
      "   -------------- ------------------------- 4.2/11.8 MB 979.1 kB/s eta 0:00:08\n",
      "   -------------- ------------------------- 4.2/11.8 MB 979.1 kB/s eta 0:00:08\n",
      "   -------------- ------------------------- 4.2/11.8 MB 979.1 kB/s eta 0:00:08\n",
      "   -------------- ------------------------- 4.2/11.8 MB 979.1 kB/s eta 0:00:08\n",
      "   -------------- ------------------------- 4.2/11.8 MB 979.1 kB/s eta 0:00:08\n",
      "   --------------- ------------------------ 4.5/11.8 MB 854.8 kB/s eta 0:00:09\n",
      "   --------------- ------------------------ 4.5/11.8 MB 854.8 kB/s eta 0:00:09\n",
      "   ---------------- ----------------------- 4.7/11.8 MB 833.9 kB/s eta 0:00:09\n",
      "   ---------------- ----------------------- 4.7/11.8 MB 833.9 kB/s eta 0:00:09\n",
      "   ---------------- ----------------------- 4.7/11.8 MB 833.9 kB/s eta 0:00:09\n",
      "   ---------------- ----------------------- 4.7/11.8 MB 833.9 kB/s eta 0:00:09\n",
      "   ---------------- ----------------------- 5.0/11.8 MB 758.7 kB/s eta 0:00:09\n",
      "   ---------------- ----------------------- 5.0/11.8 MB 758.7 kB/s eta 0:00:09\n",
      "   ---------------- ----------------------- 5.0/11.8 MB 758.7 kB/s eta 0:00:09\n",
      "   ----------------- ---------------------- 5.2/11.8 MB 741.3 kB/s eta 0:00:09\n",
      "   ----------------- ---------------------- 5.2/11.8 MB 741.3 kB/s eta 0:00:09\n",
      "   ------------------ --------------------- 5.5/11.8 MB 735.8 kB/s eta 0:00:09\n",
      "   ------------------ --------------------- 5.5/11.8 MB 735.8 kB/s eta 0:00:09\n",
      "   ------------------- -------------------- 5.8/11.8 MB 726.4 kB/s eta 0:00:09\n",
      "   -------------------- ------------------- 6.0/11.8 MB 735.2 kB/s eta 0:00:08\n",
      "   -------------------- ------------------- 6.0/11.8 MB 735.2 kB/s eta 0:00:08\n",
      "   -------------------- ------------------- 6.0/11.8 MB 735.2 kB/s eta 0:00:08\n",
      "   --------------------- ------------------ 6.3/11.8 MB 715.9 kB/s eta 0:00:08\n",
      "   ---------------------- ----------------- 6.6/11.8 MB 730.7 kB/s eta 0:00:08\n",
      "   ---------------------- ----------------- 6.6/11.8 MB 730.7 kB/s eta 0:00:08\n",
      "   ---------------------- ----------------- 6.6/11.8 MB 730.7 kB/s eta 0:00:08\n",
      "   ----------------------- ---------------- 6.8/11.8 MB 710.9 kB/s eta 0:00:07\n",
      "   ----------------------- ---------------- 6.8/11.8 MB 710.9 kB/s eta 0:00:07\n",
      "   ----------------------- ---------------- 6.8/11.8 MB 710.9 kB/s eta 0:00:07\n",
      "   ----------------------- ---------------- 6.8/11.8 MB 710.9 kB/s eta 0:00:07\n",
      "   ----------------------- ---------------- 6.8/11.8 MB 710.9 kB/s eta 0:00:07\n",
      "   ------------------------ --------------- 7.1/11.8 MB 671.0 kB/s eta 0:00:08\n",
      "   ------------------------ --------------- 7.1/11.8 MB 671.0 kB/s eta 0:00:08\n",
      "   ------------------------ --------------- 7.3/11.8 MB 662.2 kB/s eta 0:00:07\n",
      "   ------------------------ --------------- 7.3/11.8 MB 662.2 kB/s eta 0:00:07\n",
      "   ------------------------ --------------- 7.3/11.8 MB 662.2 kB/s eta 0:00:07\n",
      "   ------------------------- -------------- 7.6/11.8 MB 649.7 kB/s eta 0:00:07\n",
      "   ------------------------- -------------- 7.6/11.8 MB 649.7 kB/s eta 0:00:07\n",
      "   -------------------------- ------------- 7.9/11.8 MB 651.3 kB/s eta 0:00:07\n",
      "   -------------------------- ------------- 7.9/11.8 MB 651.3 kB/s eta 0:00:07\n",
      "   --------------------------- ------------ 8.1/11.8 MB 657.1 kB/s eta 0:00:06\n",
      "   --------------------------- ------------ 8.1/11.8 MB 657.1 kB/s eta 0:00:06\n",
      "   ---------------------------- ----------- 8.4/11.8 MB 653.4 kB/s eta 0:00:06\n",
      "   ---------------------------- ----------- 8.4/11.8 MB 653.4 kB/s eta 0:00:06\n",
      "   ----------------------------- ---------- 8.7/11.8 MB 654.7 kB/s eta 0:00:05\n",
      "   ----------------------------- ---------- 8.7/11.8 MB 654.7 kB/s eta 0:00:05\n",
      "   ----------------------------- ---------- 8.7/11.8 MB 654.7 kB/s eta 0:00:05\n",
      "   ------------------------------ --------- 8.9/11.8 MB 644.5 kB/s eta 0:00:05\n",
      "   ------------------------------- -------- 9.2/11.8 MB 654.2 kB/s eta 0:00:04\n",
      "   -------------------------------- ------- 9.4/11.8 MB 664.2 kB/s eta 0:00:04\n",
      "   -------------------------------- ------- 9.7/11.8 MB 669.6 kB/s eta 0:00:04\n",
      "   --------------------------------- ------ 10.0/11.8 MB 674.7 kB/s eta 0:00:03\n",
      "   ---------------------------------- ----- 10.2/11.8 MB 683.3 kB/s eta 0:00:03\n",
      "   ----------------------------------- ---- 10.5/11.8 MB 691.6 kB/s eta 0:00:02\n",
      "   ------------------------------------ --- 10.7/11.8 MB 699.8 kB/s eta 0:00:02\n",
      "   ------------------------------------ --- 10.7/11.8 MB 699.8 kB/s eta 0:00:02\n",
      "   ------------------------------------- -- 11.0/11.8 MB 705.5 kB/s eta 0:00:02\n",
      "   -------------------------------------- - 11.3/11.8 MB 711.7 kB/s eta 0:00:01\n",
      "   ---------------------------------------- 11.8/11.8 MB 729.5 kB/s eta 0:00:00\n",
      "Downloading catalogue-2.0.10-py3-none-any.whl (17 kB)\n",
      "Downloading cymem-2.0.8-cp312-cp312-win_amd64.whl (39 kB)\n",
      "Downloading langcodes-3.5.0-py3-none-any.whl (182 kB)\n",
      "Downloading murmurhash-1.0.10-cp312-cp312-win_amd64.whl (25 kB)\n",
      "Downloading preshed-3.0.9-cp312-cp312-win_amd64.whl (122 kB)\n",
      "Downloading pydantic-2.9.2-py3-none-any.whl (434 kB)\n",
      "Downloading pydantic_core-2.23.4-cp312-none-win_amd64.whl (1.9 MB)\n",
      "   ---------------------------------------- 0.0/1.9 MB ? eta -:--:--\n",
      "   ---------------------------------------- 0.0/1.9 MB ? eta -:--:--\n",
      "   ---------------------------------------- 0.0/1.9 MB ? eta -:--:--\n",
      "   ----- ---------------------------------- 0.3/1.9 MB ? eta -:--:--\n",
      "   ---------- ----------------------------- 0.5/1.9 MB 1.0 MB/s eta 0:00:02\n",
      "   --------------------- ------------------ 1.0/1.9 MB 1.3 MB/s eta 0:00:01\n",
      "   --------------------- ------------------ 1.0/1.9 MB 1.3 MB/s eta 0:00:01\n",
      "   -------------------------------- ------- 1.6/1.9 MB 1.4 MB/s eta 0:00:01\n",
      "   ---------------------------------------- 1.9/1.9 MB 1.4 MB/s eta 0:00:00\n",
      "Downloading requests-2.32.3-py3-none-any.whl (64 kB)\n",
      "Downloading spacy_legacy-3.0.12-py2.py3-none-any.whl (29 kB)\n",
      "Downloading spacy_loggers-1.0.5-py3-none-any.whl (22 kB)\n",
      "Downloading srsly-2.4.8-cp312-cp312-win_amd64.whl (478 kB)\n",
      "Downloading thinc-8.3.2-cp312-cp312-win_amd64.whl (1.5 MB)\n",
      "   ---------------------------------------- 0.0/1.5 MB ? eta -:--:--\n",
      "   ------- -------------------------------- 0.3/1.5 MB ? eta -:--:--\n",
      "   -------------- ------------------------- 0.5/1.5 MB 1.5 MB/s eta 0:00:01\n",
      "   --------------------- ------------------ 0.8/1.5 MB 1.6 MB/s eta 0:00:01\n",
      "   ------------------------------------ --- 1.3/1.5 MB 1.7 MB/s eta 0:00:01\n",
      "   ---------------------------------------- 1.5/1.5 MB 1.7 MB/s eta 0:00:00\n",
      "Downloading numpy-2.0.2-cp312-cp312-win_amd64.whl (15.6 MB)\n",
      "   ---------------------------------------- 0.0/15.6 MB ? eta -:--:--\n",
      "   ---------------------------------------- 0.0/15.6 MB ? eta -:--:--\n",
      "    --------------------------------------- 0.3/15.6 MB ? eta -:--:--\n",
      "   - -------------------------------------- 0.5/15.6 MB 1.9 MB/s eta 0:00:09\n",
      "   -- ------------------------------------- 1.0/15.6 MB 1.7 MB/s eta 0:00:09\n",
      "   --- ------------------------------------ 1.3/15.6 MB 1.5 MB/s eta 0:00:10\n",
      "   ---- ----------------------------------- 1.6/15.6 MB 1.6 MB/s eta 0:00:09\n",
      "   ---- ----------------------------------- 1.8/15.6 MB 1.5 MB/s eta 0:00:10\n",
      "   ---- ----------------------------------- 1.8/15.6 MB 1.5 MB/s eta 0:00:10\n",
      "   ----- ---------------------------------- 2.1/15.6 MB 1.2 MB/s eta 0:00:12\n",
      "   ------ --------------------------------- 2.4/15.6 MB 1.3 MB/s eta 0:00:11\n",
      "   ------ --------------------------------- 2.6/15.6 MB 1.3 MB/s eta 0:00:10\n",
      "   ------ --------------------------------- 2.6/15.6 MB 1.3 MB/s eta 0:00:10\n",
      "   ------- -------------------------------- 2.9/15.6 MB 1.1 MB/s eta 0:00:12\n",
      "   ------- -------------------------------- 2.9/15.6 MB 1.1 MB/s eta 0:00:12\n",
      "   -------- ------------------------------- 3.1/15.6 MB 1.1 MB/s eta 0:00:12\n",
      "   --------- ------------------------------ 3.7/15.6 MB 1.2 MB/s eta 0:00:11\n",
      "   ---------- ----------------------------- 3.9/15.6 MB 1.2 MB/s eta 0:00:10\n",
      "   ---------- ----------------------------- 4.2/15.6 MB 1.2 MB/s eta 0:00:10\n",
      "   ----------- ---------------------------- 4.5/15.6 MB 1.2 MB/s eta 0:00:10\n",
      "   ------------ --------------------------- 5.0/15.6 MB 1.3 MB/s eta 0:00:09\n",
      "   ------------- -------------------------- 5.2/15.6 MB 1.3 MB/s eta 0:00:09\n",
      "   -------------- ------------------------- 5.5/15.6 MB 1.3 MB/s eta 0:00:08\n",
      "   -------------- ------------------------- 5.5/15.6 MB 1.3 MB/s eta 0:00:08\n",
      "   -------------- ------------------------- 5.8/15.6 MB 1.2 MB/s eta 0:00:08\n",
      "   -------------- ------------------------- 5.8/15.6 MB 1.2 MB/s eta 0:00:08\n",
      "   -------------- ------------------------- 5.8/15.6 MB 1.2 MB/s eta 0:00:08\n",
      "   --------------- ------------------------ 6.0/15.6 MB 1.1 MB/s eta 0:00:09\n",
      "   ---------------- ----------------------- 6.3/15.6 MB 1.2 MB/s eta 0:00:09\n",
      "   ---------------- ----------------------- 6.3/15.6 MB 1.2 MB/s eta 0:00:09\n",
      "   ---------------- ----------------------- 6.3/15.6 MB 1.2 MB/s eta 0:00:09\n",
      "   ---------------- ----------------------- 6.6/15.6 MB 1.1 MB/s eta 0:00:09\n",
      "   ---------------- ----------------------- 6.6/15.6 MB 1.1 MB/s eta 0:00:09\n",
      "   ----------------- ---------------------- 6.8/15.6 MB 1.0 MB/s eta 0:00:09\n",
      "   ------------------ --------------------- 7.1/15.6 MB 1.0 MB/s eta 0:00:09\n",
      "   ------------------- -------------------- 7.6/15.6 MB 1.1 MB/s eta 0:00:08\n",
      "   -------------------- ------------------- 7.9/15.6 MB 1.1 MB/s eta 0:00:08\n",
      "   --------------------- ------------------ 8.4/15.6 MB 1.1 MB/s eta 0:00:07\n",
      "   ---------------------- ----------------- 8.7/15.6 MB 1.1 MB/s eta 0:00:07\n",
      "   ----------------------- ---------------- 9.2/15.6 MB 1.2 MB/s eta 0:00:06\n",
      "   ------------------------ --------------- 9.4/15.6 MB 1.2 MB/s eta 0:00:06\n",
      "   ------------------------ --------------- 9.7/15.6 MB 1.2 MB/s eta 0:00:05\n",
      "   -------------------------- ------------- 10.2/15.6 MB 1.2 MB/s eta 0:00:05\n",
      "   -------------------------- ------------- 10.5/15.6 MB 1.2 MB/s eta 0:00:05\n",
      "   --------------------------- ------------ 10.7/15.6 MB 1.2 MB/s eta 0:00:04\n",
      "   ---------------------------- ----------- 11.0/15.6 MB 1.2 MB/s eta 0:00:04\n",
      "   ---------------------------- ----------- 11.3/15.6 MB 1.2 MB/s eta 0:00:04\n",
      "   ----------------------------- ---------- 11.5/15.6 MB 1.2 MB/s eta 0:00:04\n",
      "   ----------------------------- ---------- 11.5/15.6 MB 1.2 MB/s eta 0:00:04\n",
      "   ----------------------------- ---------- 11.5/15.6 MB 1.2 MB/s eta 0:00:04\n",
      "   ------------------------------ --------- 11.8/15.6 MB 1.2 MB/s eta 0:00:04\n",
      "   ------------------------------ --------- 12.1/15.6 MB 1.2 MB/s eta 0:00:03\n",
      "   ------------------------------- -------- 12.3/15.6 MB 1.2 MB/s eta 0:00:03\n",
      "   -------------------------------- ------- 12.8/15.6 MB 1.2 MB/s eta 0:00:03\n",
      "   --------------------------------- ------ 13.1/15.6 MB 1.2 MB/s eta 0:00:03\n",
      "   ---------------------------------- ----- 13.4/15.6 MB 1.2 MB/s eta 0:00:02\n",
      "   ---------------------------------- ----- 13.4/15.6 MB 1.2 MB/s eta 0:00:02\n",
      "   ---------------------------------- ----- 13.4/15.6 MB 1.2 MB/s eta 0:00:02\n",
      "   ---------------------------------- ----- 13.4/15.6 MB 1.2 MB/s eta 0:00:02\n",
      "   ---------------------------------- ----- 13.6/15.6 MB 1.2 MB/s eta 0:00:02\n",
      "   ---------------------------------- ----- 13.6/15.6 MB 1.2 MB/s eta 0:00:02\n",
      "   ----------------------------------- ---- 13.9/15.6 MB 1.1 MB/s eta 0:00:02\n",
      "   ----------------------------------- ---- 13.9/15.6 MB 1.1 MB/s eta 0:00:02\n",
      "   ----------------------------------- ---- 13.9/15.6 MB 1.1 MB/s eta 0:00:02\n",
      "   ------------------------------------ --- 14.2/15.6 MB 1.1 MB/s eta 0:00:02\n",
      "   ------------------------------------ --- 14.4/15.6 MB 1.1 MB/s eta 0:00:02\n",
      "   ------------------------------------- -- 14.7/15.6 MB 1.1 MB/s eta 0:00:01\n",
      "   -------------------------------------- - 14.9/15.6 MB 1.1 MB/s eta 0:00:01\n",
      "   ---------------------------------------  15.5/15.6 MB 1.1 MB/s eta 0:00:01\n",
      "   ---------------------------------------- 15.6/15.6 MB 1.1 MB/s eta 0:00:00\n",
      "Downloading tqdm-4.67.0-py3-none-any.whl (78 kB)\n",
      "Downloading typer-0.13.1-py3-none-any.whl (44 kB)\n",
      "Downloading wasabi-1.1.3-py3-none-any.whl (27 kB)\n",
      "Downloading weasel-0.4.1-py3-none-any.whl (50 kB)\n",
      "Using cached jinja2-3.1.4-py3-none-any.whl (133 kB)\n",
      "Downloading setuptools-75.5.0-py3-none-any.whl (1.2 MB)\n",
      "   ---------------------------------------- 0.0/1.2 MB ? eta -:--:--\n",
      "   ---------------------------------------- 0.0/1.2 MB ? eta -:--:--\n",
      "   -------- ------------------------------- 0.3/1.2 MB ? eta -:--:--\n",
      "   -------- ------------------------------- 0.3/1.2 MB ? eta -:--:--\n",
      "   -------- ------------------------------- 0.3/1.2 MB ? eta -:--:--\n",
      "   ----------------- ---------------------- 0.5/1.2 MB 453.5 kB/s eta 0:00:02\n",
      "   ------------------------- -------------- 0.8/1.2 MB 588.4 kB/s eta 0:00:01\n",
      "   ------------------------- -------------- 0.8/1.2 MB 588.4 kB/s eta 0:00:01\n",
      "   ---------------------------------- ----- 1.0/1.2 MB 592.2 kB/s eta 0:00:01\n",
      "   ---------------------------------------- 1.2/1.2 MB 668.0 kB/s eta 0:00:00\n",
      "Downloading annotated_types-0.7.0-py3-none-any.whl (13 kB)\n",
      "Downloading blis-1.0.1-cp312-cp312-win_amd64.whl (6.4 MB)\n",
      "   ---------------------------------------- 0.0/6.4 MB ? eta -:--:--\n",
      "   ---------------------------------------- 0.0/6.4 MB ? eta -:--:--\n",
      "   --- ------------------------------------ 0.5/6.4 MB 1.9 MB/s eta 0:00:04\n",
      "   ---- ----------------------------------- 0.8/6.4 MB 1.9 MB/s eta 0:00:03\n",
      "   -------- ------------------------------- 1.3/6.4 MB 1.8 MB/s eta 0:00:03\n",
      "   -------- ------------------------------- 1.3/6.4 MB 1.8 MB/s eta 0:00:03\n",
      "   ----------- ---------------------------- 1.8/6.4 MB 1.6 MB/s eta 0:00:03\n",
      "   ----------- ---------------------------- 1.8/6.4 MB 1.6 MB/s eta 0:00:03\n",
      "   ------------- -------------------------- 2.1/6.4 MB 1.5 MB/s eta 0:00:03\n",
      "   ------------- -------------------------- 2.1/6.4 MB 1.5 MB/s eta 0:00:03\n",
      "   -------------- ------------------------- 2.4/6.4 MB 1.3 MB/s eta 0:00:04\n",
      "   ------------------ --------------------- 2.9/6.4 MB 1.3 MB/s eta 0:00:03\n",
      "   ------------------- -------------------- 3.1/6.4 MB 1.3 MB/s eta 0:00:03\n",
      "   --------------------- ------------------ 3.4/6.4 MB 1.3 MB/s eta 0:00:03\n",
      "   ----------------------- ---------------- 3.7/6.4 MB 1.4 MB/s eta 0:00:02\n",
      "   -------------------------- ------------- 4.2/6.4 MB 1.4 MB/s eta 0:00:02\n",
      "   --------------------------- ------------ 4.5/6.4 MB 1.4 MB/s eta 0:00:02\n",
      "   ----------------------------- ---------- 4.7/6.4 MB 1.4 MB/s eta 0:00:02\n",
      "   -------------------------------- ------- 5.2/6.4 MB 1.5 MB/s eta 0:00:01\n",
      "   ---------------------------------- ----- 5.5/6.4 MB 1.5 MB/s eta 0:00:01\n",
      "   ------------------------------------ --- 5.8/6.4 MB 1.5 MB/s eta 0:00:01\n",
      "   ------------------------------------- -- 6.0/6.4 MB 1.5 MB/s eta 0:00:01\n",
      "   ---------------------------------------- 6.4/6.4 MB 1.5 MB/s eta 0:00:00\n",
      "Downloading certifi-2024.8.30-py3-none-any.whl (167 kB)\n",
      "Downloading charset_normalizer-3.4.0-cp312-cp312-win_amd64.whl (102 kB)\n",
      "Using cached click-8.1.7-py3-none-any.whl (97 kB)\n",
      "Downloading cloudpathlib-0.20.0-py3-none-any.whl (52 kB)\n",
      "Downloading confection-0.1.5-py3-none-any.whl (35 kB)\n",
      "Downloading idna-3.10-py3-none-any.whl (70 kB)\n",
      "Downloading language_data-1.3.0-py3-none-any.whl (5.4 MB)\n",
      "   ---------------------------------------- 0.0/5.4 MB ? eta -:--:--\n",
      "   ---------------------------------------- 0.0/5.4 MB ? eta -:--:--\n",
      "   - -------------------------------------- 0.3/5.4 MB ? eta -:--:--\n",
      "   - -------------------------------------- 0.3/5.4 MB ? eta -:--:--\n",
      "   --- ------------------------------------ 0.5/5.4 MB 985.5 kB/s eta 0:00:05\n",
      "   ------- -------------------------------- 1.0/5.4 MB 1.3 MB/s eta 0:00:04\n",
      "   --------- ------------------------------ 1.3/5.4 MB 1.3 MB/s eta 0:00:04\n",
      "   ----------- ---------------------------- 1.6/5.4 MB 1.4 MB/s eta 0:00:03\n",
      "   ------------- -------------------------- 1.8/5.4 MB 1.4 MB/s eta 0:00:03\n",
      "   --------------- ------------------------ 2.1/5.4 MB 1.4 MB/s eta 0:00:03\n",
      "   --------------- ------------------------ 2.1/5.4 MB 1.4 MB/s eta 0:00:03\n",
      "   --------------- ------------------------ 2.1/5.4 MB 1.4 MB/s eta 0:00:03\n",
      "   ----------------- ---------------------- 2.4/5.4 MB 1.0 MB/s eta 0:00:03\n",
      "   ----------------- ---------------------- 2.4/5.4 MB 1.0 MB/s eta 0:00:03\n",
      "   ------------------- -------------------- 2.6/5.4 MB 1.0 MB/s eta 0:00:03\n",
      "   --------------------- ------------------ 2.9/5.4 MB 1.0 MB/s eta 0:00:03\n",
      "   ----------------------- ---------------- 3.1/5.4 MB 1.0 MB/s eta 0:00:03\n",
      "   ------------------------- -------------- 3.4/5.4 MB 1.0 MB/s eta 0:00:02\n",
      "   ------------------------- -------------- 3.4/5.4 MB 1.0 MB/s eta 0:00:02\n",
      "   --------------------------- ------------ 3.7/5.4 MB 1.0 MB/s eta 0:00:02\n",
      "   ----------------------------- ---------- 3.9/5.4 MB 1.0 MB/s eta 0:00:02\n",
      "   ------------------------------- -------- 4.2/5.4 MB 1.0 MB/s eta 0:00:02\n",
      "   ------------------------------- -------- 4.2/5.4 MB 1.0 MB/s eta 0:00:02\n",
      "   --------------------------------- ------ 4.5/5.4 MB 1.0 MB/s eta 0:00:01\n",
      "   ----------------------------------- ---- 4.7/5.4 MB 1.0 MB/s eta 0:00:01\n",
      "   ----------------------------------- ---- 4.7/5.4 MB 1.0 MB/s eta 0:00:01\n",
      "   ------------------------------------ --- 5.0/5.4 MB 993.4 kB/s eta 0:00:01\n",
      "   ------------------------------------ --- 5.0/5.4 MB 993.4 kB/s eta 0:00:01\n",
      "   ------------------------------------ --- 5.0/5.4 MB 993.4 kB/s eta 0:00:01\n",
      "   ------------------------------------ --- 5.0/5.4 MB 993.4 kB/s eta 0:00:01\n",
      "   ---------------------------------------- 5.4/5.4 MB 898.4 kB/s eta 0:00:00\n",
      "Downloading MarkupSafe-3.0.2-cp312-cp312-win_amd64.whl (15 kB)\n",
      "Downloading rich-13.9.4-py3-none-any.whl (242 kB)\n",
      "Downloading shellingham-1.5.4-py2.py3-none-any.whl (9.8 kB)\n",
      "Downloading smart_open-7.0.5-py3-none-any.whl (61 kB)\n",
      "Downloading typing_extensions-4.12.2-py3-none-any.whl (37 kB)\n",
      "Downloading urllib3-2.2.3-py3-none-any.whl (126 kB)\n",
      "Downloading marisa_trie-1.2.1-cp312-cp312-win_amd64.whl (150 kB)\n",
      "Downloading markdown_it_py-3.0.0-py3-none-any.whl (87 kB)\n",
      "Downloading wrapt-1.16.0-cp312-cp312-win_amd64.whl (37 kB)\n",
      "Downloading mdurl-0.1.2-py3-none-any.whl (10.0 kB)\n",
      "Installing collected packages: cymem, wrapt, wasabi, urllib3, typing-extensions, tqdm, spacy-loggers, spacy-legacy, shellingham, setuptools, numpy, murmurhash, mdurl, MarkupSafe, idna, cloudpathlib, click, charset-normalizer, certifi, catalogue, annotated-types, srsly, smart-open, requests, pydantic-core, preshed, markdown-it-py, marisa-trie, jinja2, blis, rich, pydantic, language-data, typer, langcodes, confection, weasel, thinc, spacy\n",
      "  Attempting uninstall: numpy\n",
      "    Found existing installation: numpy 2.1.3\n",
      "    Uninstalling numpy-2.1.3:\n",
      "      Successfully uninstalled numpy-2.1.3\n",
      "Successfully installed MarkupSafe-3.0.2 annotated-types-0.7.0 blis-1.0.1 catalogue-2.0.10 certifi-2024.8.30 charset-normalizer-3.4.0 click-8.1.7 cloudpathlib-0.20.0 confection-0.1.5 cymem-2.0.8 idna-3.10 jinja2-3.1.4 langcodes-3.5.0 language-data-1.3.0 marisa-trie-1.2.1 markdown-it-py-3.0.0 mdurl-0.1.2 murmurhash-1.0.10 numpy-2.0.2 preshed-3.0.9 pydantic-2.9.2 pydantic-core-2.23.4 requests-2.32.3 rich-13.9.4 setuptools-75.5.0 shellingham-1.5.4 smart-open-7.0.5 spacy-3.8.2 spacy-legacy-3.0.12 spacy-loggers-1.0.5 srsly-2.4.8 thinc-8.3.2 tqdm-4.67.0 typer-0.13.1 typing-extensions-4.12.2 urllib3-2.2.3 wasabi-1.1.3 weasel-0.4.1 wrapt-1.16.0\n",
      "Note: you may need to restart the kernel to use updated packages.\n"
     ]
    }
   ],
   "source": [
    "pip install spacy"
   ]
  },
  {
   "cell_type": "markdown",
   "metadata": {
    "id": "CzZymbEm-ia2"
   },
   "source": [
    "spaCy is a popular tool used for processing and analyzing text. Here’s a simple explanation of what it does:\n",
    "\n",
    "Text Understanding: It helps computers understand and work with human language, like recognizing words, sentences, and their meanings.\n",
    "\n",
    "Tasks: spaCy can be used for many common language tasks, such as:\n",
    "\n",
    "Named Entity Recognition (NER): Finding names, places, dates, etc., in text.\n",
    "Part-of-Speech Tagging (POS): Identifying if words are nouns, verbs, adjectives, etc.\n",
    "Text Tokenization: Breaking down sentences into words or tokens.\n",
    "Dependency Parsing: Understanding how words in a sentence are related.\n",
    "Language Models: It has pre-trained models for different languages, so it can quickly analyze text without needing to be trained from scratch.\n",
    "\n",
    "In simple terms, spaCy helps developers build applications that can read and understand text, like chatbots, resume parsers, and sentiment analyzers."
   ]
  },
  {
   "cell_type": "code",
   "execution_count": 3,
   "metadata": {
    "id": "U7JZVYxkwqas"
   },
   "outputs": [
    {
     "ename": "OSError",
     "evalue": "[E050] Can't find model 'en_core_web_sm'. It doesn't seem to be a Python package or a valid path to a data directory.",
     "output_type": "error",
     "traceback": [
      "\u001b[1;31m---------------------------------------------------------------------------\u001b[0m",
      "\u001b[1;31mOSError\u001b[0m                                   Traceback (most recent call last)",
      "Cell \u001b[1;32mIn[3], line 3\u001b[0m\n\u001b[0;32m      1\u001b[0m \u001b[38;5;66;03m# Perform standard imports\u001b[39;00m\n\u001b[0;32m      2\u001b[0m \u001b[38;5;28;01mimport\u001b[39;00m \u001b[38;5;21;01mspacy\u001b[39;00m\n\u001b[1;32m----> 3\u001b[0m nlp \u001b[38;5;241m=\u001b[39m \u001b[43mspacy\u001b[49m\u001b[38;5;241;43m.\u001b[39;49m\u001b[43mload\u001b[49m\u001b[43m(\u001b[49m\u001b[38;5;124;43m'\u001b[39;49m\u001b[38;5;124;43men_core_web_sm\u001b[39;49m\u001b[38;5;124;43m'\u001b[39;49m\u001b[43m)\u001b[49m \u001b[38;5;66;03m#en_core_web_sm is a small English pipeline trained on written web text (blogs, news, comments), that includes vocabulary, syntax and entities.\u001b[39;00m\n",
      "File \u001b[1;32m~\\AppData\\Roaming\\Python\\Python312\\site-packages\\spacy\\__init__.py:51\u001b[0m, in \u001b[0;36mload\u001b[1;34m(name, vocab, disable, enable, exclude, config)\u001b[0m\n\u001b[0;32m     27\u001b[0m \u001b[38;5;28;01mdef\u001b[39;00m \u001b[38;5;21mload\u001b[39m(\n\u001b[0;32m     28\u001b[0m     name: Union[\u001b[38;5;28mstr\u001b[39m, Path],\n\u001b[0;32m     29\u001b[0m     \u001b[38;5;241m*\u001b[39m,\n\u001b[1;32m   (...)\u001b[0m\n\u001b[0;32m     34\u001b[0m     config: Union[Dict[\u001b[38;5;28mstr\u001b[39m, Any], Config] \u001b[38;5;241m=\u001b[39m util\u001b[38;5;241m.\u001b[39mSimpleFrozenDict(),\n\u001b[0;32m     35\u001b[0m ) \u001b[38;5;241m-\u001b[39m\u001b[38;5;241m>\u001b[39m Language:\n\u001b[0;32m     36\u001b[0m \u001b[38;5;250m    \u001b[39m\u001b[38;5;124;03m\"\"\"Load a spaCy model from an installed package or a local path.\u001b[39;00m\n\u001b[0;32m     37\u001b[0m \n\u001b[0;32m     38\u001b[0m \u001b[38;5;124;03m    name (str): Package name or model path.\u001b[39;00m\n\u001b[1;32m   (...)\u001b[0m\n\u001b[0;32m     49\u001b[0m \u001b[38;5;124;03m    RETURNS (Language): The loaded nlp object.\u001b[39;00m\n\u001b[0;32m     50\u001b[0m \u001b[38;5;124;03m    \"\"\"\u001b[39;00m\n\u001b[1;32m---> 51\u001b[0m     \u001b[38;5;28;01mreturn\u001b[39;00m \u001b[43mutil\u001b[49m\u001b[38;5;241;43m.\u001b[39;49m\u001b[43mload_model\u001b[49m\u001b[43m(\u001b[49m\n\u001b[0;32m     52\u001b[0m \u001b[43m        \u001b[49m\u001b[43mname\u001b[49m\u001b[43m,\u001b[49m\n\u001b[0;32m     53\u001b[0m \u001b[43m        \u001b[49m\u001b[43mvocab\u001b[49m\u001b[38;5;241;43m=\u001b[39;49m\u001b[43mvocab\u001b[49m\u001b[43m,\u001b[49m\n\u001b[0;32m     54\u001b[0m \u001b[43m        \u001b[49m\u001b[43mdisable\u001b[49m\u001b[38;5;241;43m=\u001b[39;49m\u001b[43mdisable\u001b[49m\u001b[43m,\u001b[49m\n\u001b[0;32m     55\u001b[0m \u001b[43m        \u001b[49m\u001b[43menable\u001b[49m\u001b[38;5;241;43m=\u001b[39;49m\u001b[43menable\u001b[49m\u001b[43m,\u001b[49m\n\u001b[0;32m     56\u001b[0m \u001b[43m        \u001b[49m\u001b[43mexclude\u001b[49m\u001b[38;5;241;43m=\u001b[39;49m\u001b[43mexclude\u001b[49m\u001b[43m,\u001b[49m\n\u001b[0;32m     57\u001b[0m \u001b[43m        \u001b[49m\u001b[43mconfig\u001b[49m\u001b[38;5;241;43m=\u001b[39;49m\u001b[43mconfig\u001b[49m\u001b[43m,\u001b[49m\n\u001b[0;32m     58\u001b[0m \u001b[43m    \u001b[49m\u001b[43m)\u001b[49m\n",
      "File \u001b[1;32m~\\AppData\\Roaming\\Python\\Python312\\site-packages\\spacy\\util.py:472\u001b[0m, in \u001b[0;36mload_model\u001b[1;34m(name, vocab, disable, enable, exclude, config)\u001b[0m\n\u001b[0;32m    470\u001b[0m \u001b[38;5;28;01mif\u001b[39;00m name \u001b[38;5;129;01min\u001b[39;00m OLD_MODEL_SHORTCUTS:\n\u001b[0;32m    471\u001b[0m     \u001b[38;5;28;01mraise\u001b[39;00m \u001b[38;5;167;01mIOError\u001b[39;00m(Errors\u001b[38;5;241m.\u001b[39mE941\u001b[38;5;241m.\u001b[39mformat(name\u001b[38;5;241m=\u001b[39mname, full\u001b[38;5;241m=\u001b[39mOLD_MODEL_SHORTCUTS[name]))  \u001b[38;5;66;03m# type: ignore[index]\u001b[39;00m\n\u001b[1;32m--> 472\u001b[0m \u001b[38;5;28;01mraise\u001b[39;00m \u001b[38;5;167;01mIOError\u001b[39;00m(Errors\u001b[38;5;241m.\u001b[39mE050\u001b[38;5;241m.\u001b[39mformat(name\u001b[38;5;241m=\u001b[39mname))\n",
      "\u001b[1;31mOSError\u001b[0m: [E050] Can't find model 'en_core_web_sm'. It doesn't seem to be a Python package or a valid path to a data directory."
     ]
    }
   ],
   "source": [
    "# Perform standard imports\n",
    "import spacy\n",
    "nlp = spacy.load('en_core_web_sm') #en_core_web_sm is a small English pipeline trained on written web text (blogs, news, comments), that includes vocabulary, syntax and entities."
   ]
  },
  {
   "cell_type": "code",
   "execution_count": 3,
   "metadata": {
    "id": "J3P_TFK8wqas"
   },
   "outputs": [],
   "source": [
    "#Write a function to display basic entity info:\n",
    "def show_ents(doc):\n",
    "    if doc.ents:\n",
    "        for ent in doc.ents:\n",
    "            print(ent.text+' - ' +str(ent.start_char) +' - '+ str(ent.end_char) +\n",
    "                  ' - '+ent.label_+ ' - '+str(spacy.explain(ent.label_)))\n",
    "    else:\n",
    "        print('No named entities found.')"
   ]
  },
  {
   "cell_type": "code",
   "execution_count": 4,
   "metadata": {
    "colab": {
     "base_uri": "https://localhost:8080/"
    },
    "id": "fJEjMLQKwqat",
    "outputId": "8ae22ab0-3148-437f-e714-6e629b51a93c"
   },
   "outputs": [
    {
     "name": "stdout",
     "output_type": "stream",
     "text": [
      "Apple - 0 - 5 - ORG - Companies, agencies, institutions, etc.\n",
      "U.K. - 27 - 31 - GPE - Countries, cities, states\n",
      "$1 billion - 44 - 54 - MONEY - Monetary values, including unit\n"
     ]
    }
   ],
   "source": [
    "doc1 = nlp(\"Apple is looking at buying U.K. startup for $1 billion\")\n",
    "\n",
    "show_ents(doc1)"
   ]
  },
  {
   "cell_type": "markdown",
   "metadata": {
    "id": "_RsaKoRAwqau"
   },
   "source": [
    "Here we see tokens combine to form the entities `$1 billion`."
   ]
  },
  {
   "cell_type": "markdown",
   "metadata": {
    "id": "K6lLpkXKwqau"
   },
   "source": [
    "<table><thead><tr><th>Text</th><th align=\"center\">Start</th><th align=\"center\">End</th><th>Label</th><th>Description</th></tr></thead><tbody><tr><td>Apple</td><td align=\"center\">0</td><td align=\"center\">5</td><td><code>ORG</code></td><td>Companies, agencies, institutions.</td></tr><tr><td>U.K.</td><td align=\"center\">27</td><td align=\"center\">31</td><td><code>GPE</code></td><td>Geopolitical entity, i.e. countries, cities, states.</td></tr><tr><td>$1 billion</td><td class=\"_5c99da9a d2e3918f\" align=\"center\">44</td><td class=\"_5c99da9a d2e3918f\" align=\"center\">54</td><td class=\"_5c99da9a\"><code class=\"_1d7c6046\">MONEY</code></td><td class=\"_5c99da9a\">Monetary values, including unit.</td></tr></tbody></table>"
   ]
  },
  {
   "cell_type": "code",
   "execution_count": 5,
   "metadata": {
    "colab": {
     "base_uri": "https://localhost:8080/"
    },
    "id": "UXiPsrTOwqau",
    "outputId": "c903c6df-beaa-44d4-f1b8-fe1787ce1c32",
    "scrolled": true
   },
   "outputs": [
    {
     "name": "stdout",
     "output_type": "stream",
     "text": [
      "Washington, DC - 12 - 26 - GPE - Countries, cities, states\n",
      "next May - 27 - 35 - DATE - Absolute or relative dates or periods\n",
      "the Washington Monument - 43 - 66 - ORG - Companies, agencies, institutions, etc.\n"
     ]
    }
   ],
   "source": [
    "doc2 = nlp(u'May I go to Washington, DC next May to see the Washington Monument?')\n",
    "\n",
    "show_ents(doc2)"
   ]
  },
  {
   "cell_type": "markdown",
   "metadata": {
    "id": "de1hCr6Awqau"
   },
   "source": [
    "Here we see tokens combine to form the entities `next May` and `the Washington Monument`"
   ]
  },
  {
   "cell_type": "markdown",
   "metadata": {
    "id": "uCFuwuAbwqav"
   },
   "source": [
    "## Entity Annotations\n",
    "`Doc.ents` are token spans with their own set of annotations.\n",
    "<table>\n",
    "<tr><td>`ent.text`</td><td>The original entity text</td></tr>\n",
    "<tr><td>`ent.label`</td><td>The entity type's hash value</td></tr>\n",
    "<tr><td>`ent.label_`</td><td>The entity type's string description</td></tr>\n",
    "<tr><td>`ent.start`</td><td>The token span's *start* index position in the Doc</td></tr>\n",
    "<tr><td>`ent.end`</td><td>The token span's *stop* index position in the Doc</td></tr>\n",
    "<tr><td>`ent.start_char`</td><td>The entity text's *start* index position in the Doc</td></tr>\n",
    "<tr><td>`ent.end_char`</td><td>The entity text's *stop* index position in the Doc</td></tr>\n",
    "</table>\n",
    "\n"
   ]
  },
  {
   "cell_type": "code",
   "execution_count": 6,
   "metadata": {
    "colab": {
     "base_uri": "https://localhost:8080/"
    },
    "id": "hf3_btOfwqav",
    "outputId": "942e171f-0f95-4bf1-999e-0120be772b9c"
   },
   "outputs": [
    {
     "name": "stdout",
     "output_type": "stream",
     "text": [
      "500 dollars MONEY\n",
      "Microsoft ORG\n"
     ]
    }
   ],
   "source": [
    "doc3 = nlp('Can I please borrow 500 dollars from you to buy some Microsoft stock?')\n",
    "\n",
    "for ent in doc3.ents:\n",
    "    print(ent.text, ent.label_)"
   ]
  },
  {
   "cell_type": "markdown",
   "metadata": {
    "id": "NIehK1Bzwqav"
   },
   "source": [
    "### Accessing Entity Annotations\n",
    "\n",
    "The standard way to access entity annotations is the doc.ents property, which produces a sequence of Span objects. The entity type is accessible either as a hash value using **ent.label** or as a string using **ent.label_**.\n",
    "\n",
    "The Span object acts as a sequence of tokens, so you can iterate over the entity or index into it. You can also get the text form of the whole entity, as though it were a single token.\n",
    "\n",
    "You can also access token entity annotations using the token.ent_iob and token.ent_type attributes. token.ent_iob indicates whether an entity starts, continues or ends on the tag. If no entity type is set on a token, it will return an empty string."
   ]
  },
  {
   "cell_type": "code",
   "execution_count": 7,
   "metadata": {
    "colab": {
     "base_uri": "https://localhost:8080/"
    },
    "id": "PNOzCqKwwqav",
    "outputId": "cebcdfed-cbb7-4995-fd7e-42a11181224d"
   },
   "outputs": [
    {
     "name": "stdout",
     "output_type": "stream",
     "text": [
      "San Francisco 0 13 GPE\n",
      "[('San Francisco', 0, 13, 'GPE')]\n",
      "['San', 'B', 'GPE']\n",
      "['Francisco', 'I', 'GPE']\n"
     ]
    }
   ],
   "source": [
    "doc = nlp(\"San Francisco considers banning sidewalk delivery robots\")\n",
    "\n",
    "# document level\n",
    "for e in doc.ents:\n",
    "    print(e.text, e.start_char, e.end_char, e.label_)\n",
    "# OR\n",
    "ents = [(e.text, e.start_char, e.end_char, e.label_) for e in doc.ents] #in a list comprehension form\n",
    "print(ents)\n",
    "\n",
    "# token level\n",
    "# doc[0], doc[1] ...will have tokens stored.\n",
    "\n",
    "ent_san = [doc[0].text, doc[0].ent_iob_, doc[0].ent_type_]\n",
    "ent_francisco = [doc[1].text, doc[1].ent_iob_, doc[1].ent_type_]\n",
    "print(ent_san)\n",
    "print(ent_francisco)"
   ]
  },
  {
   "cell_type": "markdown",
   "metadata": {
    "id": "xf06daxGwqaw"
   },
   "source": [
    "IOB SCHEME\n",
    "\n",
    "I – Token is inside an entity.\n",
    "\n",
    "O – Token is outside an entity.\n",
    "\n",
    "B – Token is the beginning of an entity."
   ]
  },
  {
   "cell_type": "markdown",
   "metadata": {
    "id": "beMknmydwqaw"
   },
   "source": [
    "<table><thead><tr><th>Text</th><th>ent_iob</th><th >ent_iob_</th><th >ent_type_</th><th>Description</th></tr></thead><tbody><tr><td>San</td><td><code>3</code></td><td><code>B</code></td><td><code>\"GPE\"</code></td><td>beginning of an entity</td></tr><tr><td>Francisco</td><td><code>1</code></td><td><code>I</code></td><td><code>\"GPE\"</code></td><td>inside an entity</td></tr><tr><td>considers</td><td><code>2</code></td><td><code>O</code></td><td><code>\"\"</code></td><td>outside an entity</td></tr><tr><td>banning</td><td><code>2</code></td><td><code>O</code></td><td><code >\"\"</code></td><td>outside an entity</td></tr><tr><td>sidewalk</td><td><code>2</code></td><td><code>O</code></td><td><code>\"\"</code></td><td>outside an entity</td></tr><tr><td>delivery</td><td><code>2</code></td><td><code>O</code></td><td><code>\"\"</code></td><td>outside an entity</td></tr><tr><td>robots</td><td><code>2</code></td><td><code>O</code></td><td><code>\"\"</code></td><td>outside an entity</td></tr></tbody></table>"
   ]
  },
  {
   "cell_type": "markdown",
   "metadata": {
    "id": "KNY51aUPwqaw"
   },
   "source": [
    "**Note:** In the above example only `San Francisco` is recognized as named entity. hence rest of the tokens are described as outside the entity. And in `San Francisco` `San` is the starting of the entity and `Francisco` is inside the entity."
   ]
  },
  {
   "cell_type": "markdown",
   "metadata": {
    "id": "cNWBf5x5MD7J"
   },
   "source": [
    "GPE==> Geopolitical Entity"
   ]
  },
  {
   "cell_type": "markdown",
   "metadata": {
    "id": "EG-M-TwYwqaw"
   },
   "source": [
    "## NER Tags\n",
    "Tags are accessible through the `.label_` property of an entity.\n",
    "<table>\n",
    "<tr><th>TYPE</th><th>DESCRIPTION</th><th>EXAMPLE</th></tr>\n",
    "<tr><td>`PERSON`</td><td>People, including fictional.</td><td>*Fred Flintstone*</td></tr>\n",
    "<tr><td>`NORP`</td><td>Nationalities or religious or political groups.</td><td>*The Republican Party*</td></tr>\n",
    "<tr><td>`FAC`</td><td>Buildings, airports, highways, bridges, etc.</td><td>*Logan International Airport, The Golden Gate*</td></tr>\n",
    "<tr><td>`ORG`</td><td>Companies, agencies, institutions, etc.</td><td>*Microsoft, FBI, MIT*</td></tr>\n",
    "<tr><td>`GPE`</td><td>Countries, cities, states.</td><td>*France, UAR, Chicago, Idaho*</td></tr>\n",
    "<tr><td>`LOC`</td><td>Non-GPE locations, mountain ranges, bodies of water.</td><td>*Europe, Nile River, Midwest*</td></tr>\n",
    "<tr><td>`PRODUCT`</td><td>Objects, vehicles, foods, etc. (Not services.)</td><td>*Formula 1*</td></tr>\n",
    "<tr><td>`EVENT`</td><td>Named hurricanes, battles, wars, sports events, etc.</td><td>*Olympic Games*</td></tr>\n",
    "<tr><td>`WORK_OF_ART`</td><td>Titles of books, songs, etc.</td><td>*The Mona Lisa*</td></tr>\n",
    "<tr><td>`LAW`</td><td>Named documents made into laws.</td><td>*Roe v. Wade*</td></tr>\n",
    "<tr><td>`LANGUAGE`</td><td>Any named language.</td><td>*English*</td></tr>\n",
    "<tr><td>`DATE`</td><td>Absolute or relative dates or periods.</td><td>*20 July 1969*</td></tr>\n",
    "<tr><td>`TIME`</td><td>Times smaller than a day.</td><td>*Four hours*</td></tr>\n",
    "<tr><td>`PERCENT`</td><td>Percentage, including \"%\".</td><td>*Eighty percent*</td></tr>\n",
    "<tr><td>`MONEY`</td><td>Monetary values, including unit.</td><td>*Twenty Cents*</td></tr>\n",
    "<tr><td>`QUANTITY`</td><td>Measurements, as of weight or distance.</td><td>*Several kilometers, 55kg*</td></tr>\n",
    "<tr><td>`ORDINAL`</td><td>\"first\", \"second\", etc.</td><td>*9th, Ninth*</td></tr>\n",
    "<tr><td>`CARDINAL`</td><td>Numerals that do not fall under another type.</td><td>*2, Two, Fifty-two*</td></tr>\n",
    "</table>"
   ]
  },
  {
   "cell_type": "markdown",
   "metadata": {
    "id": "cjb_TkZmwqaw"
   },
   "source": [
    "___\n",
    "## User Defined Named Entity and Adding it to a Span\n",
    "Normally we would have spaCy build a library of named entities by training it on several samples of text.<br> Sometimes, we want to assign specific token a named entity whic is not recognized by the trained spacy model. We can do this as shown in below code."
   ]
  },
  {
   "cell_type": "markdown",
   "metadata": {
    "id": "vgnycHzLwqaw"
   },
   "source": [
    "#### Example1"
   ]
  },
  {
   "cell_type": "code",
   "execution_count": 8,
   "metadata": {
    "colab": {
     "base_uri": "https://localhost:8080/"
    },
    "id": "pvARXVR-wqaw",
    "outputId": "6b43e038-dc12-4991-f568-9e3b999de2da"
   },
   "outputs": [
    {
     "name": "stdout",
     "output_type": "stream",
     "text": [
      "U.K. - 17 - 21 - GPE - Countries, cities, states\n",
      "$6 million - 34 - 44 - MONEY - Monetary values, including unit\n"
     ]
    }
   ],
   "source": [
    "doc = nlp('Tesla to build a U.K. factory for $6 million')\n",
    "\n",
    "show_ents(doc)"
   ]
  },
  {
   "cell_type": "markdown",
   "metadata": {
    "id": "MFpwVh4Wwqax"
   },
   "source": [
    "<font>Right now, spaCy does not recognize \"Tesla\" as a company.</font>"
   ]
  },
  {
   "cell_type": "code",
   "execution_count": 9,
   "metadata": {
    "id": "HTOxKEvOwqax"
   },
   "outputs": [],
   "source": [
    "from spacy.tokens import Span"
   ]
  },
  {
   "cell_type": "code",
   "execution_count": 10,
   "metadata": {
    "id": "p-oV7FTtwqax"
   },
   "outputs": [],
   "source": [
    "\n",
    "\n",
    "# Get the hash value of the ORG entity label\n",
    "ORG = doc.vocab.strings[u'ORG']\n",
    "\n",
    "# Create a Span for the new entity\n",
    "new_ent = Span(doc, 0, 1, label=ORG)\n",
    "\n",
    "# Add the entity to the existing Doc object\n",
    "doc.ents = list(doc.ents) + [new_ent]"
   ]
  },
  {
   "cell_type": "markdown",
   "metadata": {
    "id": "E08p7cGQwqax"
   },
   "source": [
    "<font>In the code above, the arguments passed to `Span()` are:</font>\n",
    "-  `doc` - the name of the Doc object\n",
    "-  `0` - the *start* index position of the token in the doc\n",
    "-  `1` - the *stop* index position (exclusive) in the doc\n",
    "-  `label=ORG` - the label assigned to our entity"
   ]
  },
  {
   "cell_type": "code",
   "execution_count": 11,
   "metadata": {
    "colab": {
     "base_uri": "https://localhost:8080/"
    },
    "id": "ZcPijvT7wqax",
    "outputId": "619ece65-ebb5-4b1b-b675-1cc956ab761e",
    "scrolled": true
   },
   "outputs": [
    {
     "name": "stdout",
     "output_type": "stream",
     "text": [
      "Tesla - 0 - 5 - ORG - Companies, agencies, institutions, etc.\n",
      "U.K. - 17 - 21 - GPE - Countries, cities, states\n",
      "$6 million - 34 - 44 - MONEY - Monetary values, including unit\n"
     ]
    }
   ],
   "source": [
    "show_ents(doc)"
   ]
  },
  {
   "cell_type": "markdown",
   "metadata": {
    "id": "Et5Kbo3Twqax"
   },
   "source": [
    "#### Example2"
   ]
  },
  {
   "cell_type": "code",
   "execution_count": 12,
   "metadata": {
    "colab": {
     "base_uri": "https://localhost:8080/"
    },
    "id": "AwPWHWrGwqax",
    "outputId": "0d82e89d-9e35-44e1-e2da-e8722307d878"
   },
   "outputs": [
    {
     "name": "stdout",
     "output_type": "stream",
     "text": [
      "Before []\n",
      "After [('fb', 0, 2, 'ORG')]\n"
     ]
    }
   ],
   "source": [
    "doc = nlp(\"fb is hiring a new vice president of global policy\")\n",
    "ents = [(e.text, e.start_char, e.end_char, e.label_) for e in doc.ents]\n",
    "print('Before', ents)\n",
    "#the model didn't recognise \"fb\" as an entity :(\n",
    "\n",
    "fb_ent = Span(doc, 0, 1, label=\"ORG\") # create a Span for the new entity\n",
    "doc.ents = list(doc.ents) + [fb_ent]\n",
    "\n",
    "ents = [(e.text, e.start_char, e.end_char, e.label_) for e in doc.ents]\n",
    "print('After', ents)\n",
    "# [('fb', 0, 2, 'ORG')]"
   ]
  },
  {
   "cell_type": "markdown",
   "metadata": {
    "id": "P1DZOSoowqay"
   },
   "source": [
    "## Visualizing NER"
   ]
  },
  {
   "cell_type": "code",
   "execution_count": 13,
   "metadata": {
    "id": "ThfwPuoWwqay"
   },
   "outputs": [],
   "source": [
    "# Import the displaCy library\n",
    "from spacy import displacy"
   ]
  },
  {
   "cell_type": "code",
   "execution_count": 14,
   "metadata": {
    "colab": {
     "base_uri": "https://localhost:8080/",
     "height": 52
    },
    "id": "-TQ701MBwqay",
    "outputId": "be205fe8-48a1-4946-b8a7-8b91f065d140"
   },
   "outputs": [
    {
     "data": {
      "text/html": [
       "<span class=\"tex2jax_ignore\"><div class=\"entities\" style=\"line-height: 2.5; direction: ltr\">When \n",
       "<mark class=\"entity\" style=\"background: #aa9cfc; padding: 0.45em 0.6em; margin: 0 0.25em; line-height: 1; border-radius: 0.35em;\">\n",
       "    S. Thrun\n",
       "    <span style=\"font-size: 0.8em; font-weight: bold; line-height: 1; border-radius: 0.35em; vertical-align: middle; margin-left: 0.5rem\">PERSON</span>\n",
       "</mark>\n",
       " started working on self driving cars at \n",
       "<mark class=\"entity\" style=\"background: #7aecec; padding: 0.45em 0.6em; margin: 0 0.25em; line-height: 1; border-radius: 0.35em;\">\n",
       "    Google\n",
       "    <span style=\"font-size: 0.8em; font-weight: bold; line-height: 1; border-radius: 0.35em; vertical-align: middle; margin-left: 0.5rem\">ORG</span>\n",
       "</mark>\n",
       " in \n",
       "<mark class=\"entity\" style=\"background: #bfe1d9; padding: 0.45em 0.6em; margin: 0 0.25em; line-height: 1; border-radius: 0.35em;\">\n",
       "    2007\n",
       "    <span style=\"font-size: 0.8em; font-weight: bold; line-height: 1; border-radius: 0.35em; vertical-align: middle; margin-left: 0.5rem\">DATE</span>\n",
       "</mark>\n",
       " few people outside of the company took him serious</div></span>"
      ],
      "text/plain": [
       "<IPython.core.display.HTML object>"
      ]
     },
     "metadata": {},
     "output_type": "display_data"
    }
   ],
   "source": [
    "text = \"When S. Thrun started working on self driving cars at Google in 2007 \\\n",
    "few people outside of the company took him serious\"\n",
    "doc = nlp(text)\n",
    "displacy.render(doc, style=\"ent\", jupyter=True)"
   ]
  },
  {
   "cell_type": "code",
   "execution_count": 15,
   "metadata": {
    "colab": {
     "base_uri": "https://localhost:8080/",
     "height": 647
    },
    "id": "MXisQY5kwqaz",
    "outputId": "4ee48952-fab0-4eb7-9235-e80af0c92c4d"
   },
   "outputs": [
    {
     "data": {
      "text/html": [
       "<span class=\"tex2jax_ignore\"><div class=\"entities\" style=\"line-height: 2.5; direction: ltr\">\n",
       "<mark class=\"entity\" style=\"background: #7aecec; padding: 0.45em 0.6em; margin: 0 0.25em; line-height: 1; border-radius: 0.35em;\">\n",
       "    Clearview AI\n",
       "    <span style=\"font-size: 0.8em; font-weight: bold; line-height: 1; border-radius: 0.35em; vertical-align: middle; margin-left: 0.5rem\">ORG</span>\n",
       "</mark>\n",
       ", a \n",
       "<mark class=\"entity\" style=\"background: #feca74; padding: 0.45em 0.6em; margin: 0 0.25em; line-height: 1; border-radius: 0.35em;\">\n",
       "    New York\n",
       "    <span style=\"font-size: 0.8em; font-weight: bold; line-height: 1; border-radius: 0.35em; vertical-align: middle; margin-left: 0.5rem\">GPE</span>\n",
       "</mark>\n",
       "-headquartered facial recognition company, has been fined \n",
       "<mark class=\"entity\" style=\"background: #e4e7d2; padding: 0.45em 0.6em; margin: 0 0.25em; line-height: 1; border-radius: 0.35em;\">\n",
       "    £7.5 million\n",
       "    <span style=\"font-size: 0.8em; font-weight: bold; line-height: 1; border-radius: 0.35em; vertical-align: middle; margin-left: 0.5rem\">MONEY</span>\n",
       "</mark>\n",
       " (\n",
       "<mark class=\"entity\" style=\"background: #e4e7d2; padding: 0.45em 0.6em; margin: 0 0.25em; line-height: 1; border-radius: 0.35em;\">\n",
       "    $9.4 million\n",
       "    <span style=\"font-size: 0.8em; font-weight: bold; line-height: 1; border-radius: 0.35em; vertical-align: middle; margin-left: 0.5rem\">MONEY</span>\n",
       "</mark>\n",
       ") by a \n",
       "<mark class=\"entity\" style=\"background: #feca74; padding: 0.45em 0.6em; margin: 0 0.25em; line-height: 1; border-radius: 0.35em;\">\n",
       "    U.K.\n",
       "    <span style=\"font-size: 0.8em; font-weight: bold; line-height: 1; border-radius: 0.35em; vertical-align: middle; margin-left: 0.5rem\">GPE</span>\n",
       "</mark>\n",
       " privacy regulator.<br><br>Over \n",
       "<mark class=\"entity\" style=\"background: #bfe1d9; padding: 0.45em 0.6em; margin: 0 0.25em; line-height: 1; border-radius: 0.35em;\">\n",
       "    the last few years\n",
       "    <span style=\"font-size: 0.8em; font-weight: bold; line-height: 1; border-radius: 0.35em; vertical-align: middle; margin-left: 0.5rem\">DATE</span>\n",
       "</mark>\n",
       ", the firm has collected images from the web and social media of people in \n",
       "<mark class=\"entity\" style=\"background: #feca74; padding: 0.45em 0.6em; margin: 0 0.25em; line-height: 1; border-radius: 0.35em;\">\n",
       "    Britain\n",
       "    <span style=\"font-size: 0.8em; font-weight: bold; line-height: 1; border-radius: 0.35em; vertical-align: middle; margin-left: 0.5rem\">GPE</span>\n",
       "</mark>\n",
       " and elsewhere to create a global online database that can be used by law enforcement for facial recognition.<br><br>\n",
       "<mark class=\"entity\" style=\"background: #7aecec; padding: 0.45em 0.6em; margin: 0 0.25em; line-height: 1; border-radius: 0.35em;\">\n",
       "    The Information Commission’s Office\n",
       "    <span style=\"font-size: 0.8em; font-weight: bold; line-height: 1; border-radius: 0.35em; vertical-align: middle; margin-left: 0.5rem\">ORG</span>\n",
       "</mark>\n",
       " said \n",
       "<mark class=\"entity\" style=\"background: #bfe1d9; padding: 0.45em 0.6em; margin: 0 0.25em; line-height: 1; border-radius: 0.35em;\">\n",
       "    Monday\n",
       "    <span style=\"font-size: 0.8em; font-weight: bold; line-height: 1; border-radius: 0.35em; vertical-align: middle; margin-left: 0.5rem\">DATE</span>\n",
       "</mark>\n",
       " that the company has breached \n",
       "<mark class=\"entity\" style=\"background: #feca74; padding: 0.45em 0.6em; margin: 0 0.25em; line-height: 1; border-radius: 0.35em;\">\n",
       "    U.K.\n",
       "    <span style=\"font-size: 0.8em; font-weight: bold; line-height: 1; border-radius: 0.35em; vertical-align: middle; margin-left: 0.5rem\">GPE</span>\n",
       "</mark>\n",
       " data protection laws.<br><br>The \n",
       "<mark class=\"entity\" style=\"background: #7aecec; padding: 0.45em 0.6em; margin: 0 0.25em; line-height: 1; border-radius: 0.35em;\">\n",
       "    ICO\n",
       "    <span style=\"font-size: 0.8em; font-weight: bold; line-height: 1; border-radius: 0.35em; vertical-align: middle; margin-left: 0.5rem\">ORG</span>\n",
       "</mark>\n",
       " has ordered \n",
       "<mark class=\"entity\" style=\"background: #7aecec; padding: 0.45em 0.6em; margin: 0 0.25em; line-height: 1; border-radius: 0.35em;\">\n",
       "    Clearview\n",
       "    <span style=\"font-size: 0.8em; font-weight: bold; line-height: 1; border-radius: 0.35em; vertical-align: middle; margin-left: 0.5rem\">ORG</span>\n",
       "</mark>\n",
       " to delete data it has on \n",
       "<mark class=\"entity\" style=\"background: #feca74; padding: 0.45em 0.6em; margin: 0 0.25em; line-height: 1; border-radius: 0.35em;\">\n",
       "    U.K.\n",
       "    <span style=\"font-size: 0.8em; font-weight: bold; line-height: 1; border-radius: 0.35em; vertical-align: middle; margin-left: 0.5rem\">GPE</span>\n",
       "</mark>\n",
       " residents and banned it from collecting any more.<br><br>\n",
       "<mark class=\"entity\" style=\"background: #7aecec; padding: 0.45em 0.6em; margin: 0 0.25em; line-height: 1; border-radius: 0.35em;\">\n",
       "    Clearview\n",
       "    <span style=\"font-size: 0.8em; font-weight: bold; line-height: 1; border-radius: 0.35em; vertical-align: middle; margin-left: 0.5rem\">ORG</span>\n",
       "</mark>\n",
       " writes on its website that it has collected \n",
       "<mark class=\"entity\" style=\"background: #e4e7d2; padding: 0.45em 0.6em; margin: 0 0.25em; line-height: 1; border-radius: 0.35em;\">\n",
       "    more than 20 billion\n",
       "    <span style=\"font-size: 0.8em; font-weight: bold; line-height: 1; border-radius: 0.35em; vertical-align: middle; margin-left: 0.5rem\">MONEY</span>\n",
       "</mark>\n",
       " facial images of people around the world. It collects publicly posted images from social media platforms like \n",
       "<mark class=\"entity\" style=\"background: #7aecec; padding: 0.45em 0.6em; margin: 0 0.25em; line-height: 1; border-radius: 0.35em;\">\n",
       "    Facebook and Instagram\n",
       "    <span style=\"font-size: 0.8em; font-weight: bold; line-height: 1; border-radius: 0.35em; vertical-align: middle; margin-left: 0.5rem\">ORG</span>\n",
       "</mark>\n",
       ", as well as news media, mugshot websites and other open sources. It does so without informing the individuals or asking for their consent.<br><br>\n",
       "<mark class=\"entity\" style=\"background: #7aecec; padding: 0.45em 0.6em; margin: 0 0.25em; line-height: 1; border-radius: 0.35em;\">\n",
       "    Clearview\n",
       "    <span style=\"font-size: 0.8em; font-weight: bold; line-height: 1; border-radius: 0.35em; vertical-align: middle; margin-left: 0.5rem\">ORG</span>\n",
       "</mark>\n",
       "’s platform allows law enforcement agencies to upload a photo of an individual and try to match it to photos that are stored in \n",
       "<mark class=\"entity\" style=\"background: #7aecec; padding: 0.45em 0.6em; margin: 0 0.25em; line-height: 1; border-radius: 0.35em;\">\n",
       "    Clearview\n",
       "    <span style=\"font-size: 0.8em; font-weight: bold; line-height: 1; border-radius: 0.35em; vertical-align: middle; margin-left: 0.5rem\">ORG</span>\n",
       "</mark>\n",
       "’s database.<br><br>\n",
       "<mark class=\"entity\" style=\"background: #aa9cfc; padding: 0.45em 0.6em; margin: 0 0.25em; line-height: 1; border-radius: 0.35em;\">\n",
       "    John Edwards\n",
       "    <span style=\"font-size: 0.8em; font-weight: bold; line-height: 1; border-radius: 0.35em; vertical-align: middle; margin-left: 0.5rem\">PERSON</span>\n",
       "</mark>\n",
       ", the \n",
       "<mark class=\"entity\" style=\"background: #feca74; padding: 0.45em 0.6em; margin: 0 0.25em; line-height: 1; border-radius: 0.35em;\">\n",
       "    U.K.\n",
       "    <span style=\"font-size: 0.8em; font-weight: bold; line-height: 1; border-radius: 0.35em; vertical-align: middle; margin-left: 0.5rem\">GPE</span>\n",
       "</mark>\n",
       "’s information commissioner, said in a statement: “The company not only enables identification of those people, but effectively monitors their behavior and offers it as a commercial service. That is unacceptable.”<br><br>He added that people expect their personal information to be respected, regardless of where in the world their data is being used.</div></span>"
      ],
      "text/plain": [
       "<IPython.core.display.HTML object>"
      ]
     },
     "metadata": {},
     "output_type": "display_data"
    }
   ],
   "source": [
    "text = \"\"\"Clearview AI, a New York-headquartered facial recognition company, has been fined £7.5 million ($9.4 million) by a U.K. privacy regulator.\n",
    "\n",
    "Over the last few years, the firm has collected images from the web and social media of people in Britain and elsewhere to create a global online database that can be used by law enforcement for facial recognition.\n",
    "\n",
    "The Information Commission’s Office said Monday that the company has breached U.K. data protection laws.\n",
    "\n",
    "The ICO has ordered Clearview to delete data it has on U.K. residents and banned it from collecting any more.\n",
    "\n",
    "Clearview writes on its website that it has collected more than 20 billion facial images of people around the world. It collects publicly posted images from social media platforms like Facebook and Instagram, as well as news media, mugshot websites and other open sources. It does so without informing the individuals or asking for their consent.\n",
    "\n",
    "Clearview’s platform allows law enforcement agencies to upload a photo of an individual and try to match it to photos that are stored in Clearview’s database.\n",
    "\n",
    "John Edwards, the U.K.’s information commissioner, said in a statement: “The company not only enables identification of those people, but effectively monitors their behavior and offers it as a commercial service. That is unacceptable.”\n",
    "\n",
    "He added that people expect their personal information to be respected, regardless of where in the world their data is being used.\"\"\"\n",
    "\n",
    "doc = nlp(text)\n",
    "\n",
    "displacy.render(doc, style='ent', jupyter=True)"
   ]
  },
  {
   "cell_type": "markdown",
   "metadata": {
    "id": "xZ8Qb0mCwqaz"
   },
   "source": [
    "### Visualizing Sentences Line by Line"
   ]
  },
  {
   "cell_type": "code",
   "execution_count": 16,
   "metadata": {
    "colab": {
     "base_uri": "https://localhost:8080/",
     "height": 774
    },
    "id": "c2P5Mlcewqaz",
    "outputId": "793fcb8f-3816-4eaa-860b-148a86ac98d2"
   },
   "outputs": [
    {
     "data": {
      "text/html": [
       "<span class=\"tex2jax_ignore\"><div class=\"entities\" style=\"line-height: 2.5; direction: ltr\">\n",
       "<mark class=\"entity\" style=\"background: #7aecec; padding: 0.45em 0.6em; margin: 0 0.25em; line-height: 1; border-radius: 0.35em;\">\n",
       "    Clearview AI\n",
       "    <span style=\"font-size: 0.8em; font-weight: bold; line-height: 1; border-radius: 0.35em; vertical-align: middle; margin-left: 0.5rem\">ORG</span>\n",
       "</mark>\n",
       ", a \n",
       "<mark class=\"entity\" style=\"background: #feca74; padding: 0.45em 0.6em; margin: 0 0.25em; line-height: 1; border-radius: 0.35em;\">\n",
       "    New York\n",
       "    <span style=\"font-size: 0.8em; font-weight: bold; line-height: 1; border-radius: 0.35em; vertical-align: middle; margin-left: 0.5rem\">GPE</span>\n",
       "</mark>\n",
       "-headquartered facial recognition company, has been fined \n",
       "<mark class=\"entity\" style=\"background: #e4e7d2; padding: 0.45em 0.6em; margin: 0 0.25em; line-height: 1; border-radius: 0.35em;\">\n",
       "    £7.5 million\n",
       "    <span style=\"font-size: 0.8em; font-weight: bold; line-height: 1; border-radius: 0.35em; vertical-align: middle; margin-left: 0.5rem\">MONEY</span>\n",
       "</mark>\n",
       " (\n",
       "<mark class=\"entity\" style=\"background: #e4e7d2; padding: 0.45em 0.6em; margin: 0 0.25em; line-height: 1; border-radius: 0.35em;\">\n",
       "    $9.4 million\n",
       "    <span style=\"font-size: 0.8em; font-weight: bold; line-height: 1; border-radius: 0.35em; vertical-align: middle; margin-left: 0.5rem\">MONEY</span>\n",
       "</mark>\n",
       ") by a \n",
       "<mark class=\"entity\" style=\"background: #feca74; padding: 0.45em 0.6em; margin: 0 0.25em; line-height: 1; border-radius: 0.35em;\">\n",
       "    U.K.\n",
       "    <span style=\"font-size: 0.8em; font-weight: bold; line-height: 1; border-radius: 0.35em; vertical-align: middle; margin-left: 0.5rem\">GPE</span>\n",
       "</mark>\n",
       " privacy regulator.<br><br></div></span>"
      ],
      "text/plain": [
       "<IPython.core.display.HTML object>"
      ]
     },
     "metadata": {},
     "output_type": "display_data"
    },
    {
     "data": {
      "text/html": [
       "<span class=\"tex2jax_ignore\"><div class=\"entities\" style=\"line-height: 2.5; direction: ltr\">Over \n",
       "<mark class=\"entity\" style=\"background: #bfe1d9; padding: 0.45em 0.6em; margin: 0 0.25em; line-height: 1; border-radius: 0.35em;\">\n",
       "    the last few years\n",
       "    <span style=\"font-size: 0.8em; font-weight: bold; line-height: 1; border-radius: 0.35em; vertical-align: middle; margin-left: 0.5rem\">DATE</span>\n",
       "</mark>\n",
       ", the firm has collected images from the web and social media of people in \n",
       "<mark class=\"entity\" style=\"background: #feca74; padding: 0.45em 0.6em; margin: 0 0.25em; line-height: 1; border-radius: 0.35em;\">\n",
       "    Britain\n",
       "    <span style=\"font-size: 0.8em; font-weight: bold; line-height: 1; border-radius: 0.35em; vertical-align: middle; margin-left: 0.5rem\">GPE</span>\n",
       "</mark>\n",
       " and elsewhere to create a global online database that can be used by law enforcement for facial recognition.<br><br></div></span>"
      ],
      "text/plain": [
       "<IPython.core.display.HTML object>"
      ]
     },
     "metadata": {},
     "output_type": "display_data"
    },
    {
     "data": {
      "text/html": [
       "<span class=\"tex2jax_ignore\"><div class=\"entities\" style=\"line-height: 2.5; direction: ltr\">\n",
       "<mark class=\"entity\" style=\"background: #7aecec; padding: 0.45em 0.6em; margin: 0 0.25em; line-height: 1; border-radius: 0.35em;\">\n",
       "    The Information Commission’s Office\n",
       "    <span style=\"font-size: 0.8em; font-weight: bold; line-height: 1; border-radius: 0.35em; vertical-align: middle; margin-left: 0.5rem\">ORG</span>\n",
       "</mark>\n",
       " said \n",
       "<mark class=\"entity\" style=\"background: #bfe1d9; padding: 0.45em 0.6em; margin: 0 0.25em; line-height: 1; border-radius: 0.35em;\">\n",
       "    Monday\n",
       "    <span style=\"font-size: 0.8em; font-weight: bold; line-height: 1; border-radius: 0.35em; vertical-align: middle; margin-left: 0.5rem\">DATE</span>\n",
       "</mark>\n",
       " that the company has breached \n",
       "<mark class=\"entity\" style=\"background: #feca74; padding: 0.45em 0.6em; margin: 0 0.25em; line-height: 1; border-radius: 0.35em;\">\n",
       "    U.K.\n",
       "    <span style=\"font-size: 0.8em; font-weight: bold; line-height: 1; border-radius: 0.35em; vertical-align: middle; margin-left: 0.5rem\">GPE</span>\n",
       "</mark>\n",
       " data protection laws.<br><br></div></span>"
      ],
      "text/plain": [
       "<IPython.core.display.HTML object>"
      ]
     },
     "metadata": {},
     "output_type": "display_data"
    },
    {
     "data": {
      "text/html": [
       "<span class=\"tex2jax_ignore\"><div class=\"entities\" style=\"line-height: 2.5; direction: ltr\">The \n",
       "<mark class=\"entity\" style=\"background: #7aecec; padding: 0.45em 0.6em; margin: 0 0.25em; line-height: 1; border-radius: 0.35em;\">\n",
       "    ICO\n",
       "    <span style=\"font-size: 0.8em; font-weight: bold; line-height: 1; border-radius: 0.35em; vertical-align: middle; margin-left: 0.5rem\">ORG</span>\n",
       "</mark>\n",
       " has ordered \n",
       "<mark class=\"entity\" style=\"background: #7aecec; padding: 0.45em 0.6em; margin: 0 0.25em; line-height: 1; border-radius: 0.35em;\">\n",
       "    Clearview\n",
       "    <span style=\"font-size: 0.8em; font-weight: bold; line-height: 1; border-radius: 0.35em; vertical-align: middle; margin-left: 0.5rem\">ORG</span>\n",
       "</mark>\n",
       " to delete data it has on \n",
       "<mark class=\"entity\" style=\"background: #feca74; padding: 0.45em 0.6em; margin: 0 0.25em; line-height: 1; border-radius: 0.35em;\">\n",
       "    U.K.\n",
       "    <span style=\"font-size: 0.8em; font-weight: bold; line-height: 1; border-radius: 0.35em; vertical-align: middle; margin-left: 0.5rem\">GPE</span>\n",
       "</mark>\n",
       " residents and banned it from collecting any more.<br><br></div></span>"
      ],
      "text/plain": [
       "<IPython.core.display.HTML object>"
      ]
     },
     "metadata": {},
     "output_type": "display_data"
    },
    {
     "data": {
      "text/html": [
       "<span class=\"tex2jax_ignore\"><div class=\"entities\" style=\"line-height: 2.5; direction: ltr\">\n",
       "<mark class=\"entity\" style=\"background: #7aecec; padding: 0.45em 0.6em; margin: 0 0.25em; line-height: 1; border-radius: 0.35em;\">\n",
       "    Clearview\n",
       "    <span style=\"font-size: 0.8em; font-weight: bold; line-height: 1; border-radius: 0.35em; vertical-align: middle; margin-left: 0.5rem\">ORG</span>\n",
       "</mark>\n",
       " writes on its website that it has collected \n",
       "<mark class=\"entity\" style=\"background: #e4e7d2; padding: 0.45em 0.6em; margin: 0 0.25em; line-height: 1; border-radius: 0.35em;\">\n",
       "    more than 20 billion\n",
       "    <span style=\"font-size: 0.8em; font-weight: bold; line-height: 1; border-radius: 0.35em; vertical-align: middle; margin-left: 0.5rem\">MONEY</span>\n",
       "</mark>\n",
       " facial images of people around the world.</div></span>"
      ],
      "text/plain": [
       "<IPython.core.display.HTML object>"
      ]
     },
     "metadata": {},
     "output_type": "display_data"
    },
    {
     "data": {
      "text/html": [
       "<span class=\"tex2jax_ignore\"><div class=\"entities\" style=\"line-height: 2.5; direction: ltr\">It collects publicly posted images from social media platforms like \n",
       "<mark class=\"entity\" style=\"background: #7aecec; padding: 0.45em 0.6em; margin: 0 0.25em; line-height: 1; border-radius: 0.35em;\">\n",
       "    Facebook and Instagram\n",
       "    <span style=\"font-size: 0.8em; font-weight: bold; line-height: 1; border-radius: 0.35em; vertical-align: middle; margin-left: 0.5rem\">ORG</span>\n",
       "</mark>\n",
       ", as well as news media, mugshot websites and other open sources.</div></span>"
      ],
      "text/plain": [
       "<IPython.core.display.HTML object>"
      ]
     },
     "metadata": {},
     "output_type": "display_data"
    },
    {
     "name": "stderr",
     "output_type": "stream",
     "text": [
      "/usr/local/lib/python3.10/dist-packages/spacy/displacy/__init__.py:213: UserWarning: [W006] No entities to visualize found in Doc object. If this is surprising to you, make sure the Doc was processed using a model that supports named entity recognition, and check the `doc.ents` property manually if necessary.\n",
      "  warnings.warn(Warnings.W006)\n"
     ]
    },
    {
     "data": {
      "text/html": [
       "<span class=\"tex2jax_ignore\"><div class=\"entities\" style=\"line-height: 2.5; direction: ltr\">It does so without informing the individuals or asking for their consent.<br><br></div></span>"
      ],
      "text/plain": [
       "<IPython.core.display.HTML object>"
      ]
     },
     "metadata": {},
     "output_type": "display_data"
    },
    {
     "data": {
      "text/html": [
       "<span class=\"tex2jax_ignore\"><div class=\"entities\" style=\"line-height: 2.5; direction: ltr\">\n",
       "<mark class=\"entity\" style=\"background: #7aecec; padding: 0.45em 0.6em; margin: 0 0.25em; line-height: 1; border-radius: 0.35em;\">\n",
       "    Clearview\n",
       "    <span style=\"font-size: 0.8em; font-weight: bold; line-height: 1; border-radius: 0.35em; vertical-align: middle; margin-left: 0.5rem\">ORG</span>\n",
       "</mark>\n",
       "’s platform allows law enforcement agencies to upload a photo of an individual and try to match it to photos that are stored in \n",
       "<mark class=\"entity\" style=\"background: #7aecec; padding: 0.45em 0.6em; margin: 0 0.25em; line-height: 1; border-radius: 0.35em;\">\n",
       "    Clearview\n",
       "    <span style=\"font-size: 0.8em; font-weight: bold; line-height: 1; border-radius: 0.35em; vertical-align: middle; margin-left: 0.5rem\">ORG</span>\n",
       "</mark>\n",
       "’s database.<br><br></div></span>"
      ],
      "text/plain": [
       "<IPython.core.display.HTML object>"
      ]
     },
     "metadata": {},
     "output_type": "display_data"
    },
    {
     "data": {
      "text/html": [
       "<span class=\"tex2jax_ignore\"><div class=\"entities\" style=\"line-height: 2.5; direction: ltr\">\n",
       "<mark class=\"entity\" style=\"background: #aa9cfc; padding: 0.45em 0.6em; margin: 0 0.25em; line-height: 1; border-radius: 0.35em;\">\n",
       "    John Edwards\n",
       "    <span style=\"font-size: 0.8em; font-weight: bold; line-height: 1; border-radius: 0.35em; vertical-align: middle; margin-left: 0.5rem\">PERSON</span>\n",
       "</mark>\n",
       ", the \n",
       "<mark class=\"entity\" style=\"background: #feca74; padding: 0.45em 0.6em; margin: 0 0.25em; line-height: 1; border-radius: 0.35em;\">\n",
       "    U.K.\n",
       "    <span style=\"font-size: 0.8em; font-weight: bold; line-height: 1; border-radius: 0.35em; vertical-align: middle; margin-left: 0.5rem\">GPE</span>\n",
       "</mark>\n",
       "’s information commissioner, said in a statement: “The company not only enables identification of those people, but effectively monitors their behavior and offers it as a commercial service.</div></span>"
      ],
      "text/plain": [
       "<IPython.core.display.HTML object>"
      ]
     },
     "metadata": {},
     "output_type": "display_data"
    },
    {
     "data": {
      "text/html": [
       "<span class=\"tex2jax_ignore\"><div class=\"entities\" style=\"line-height: 2.5; direction: ltr\">That is unacceptable.”<br><br></div></span>"
      ],
      "text/plain": [
       "<IPython.core.display.HTML object>"
      ]
     },
     "metadata": {},
     "output_type": "display_data"
    },
    {
     "data": {
      "text/html": [
       "<span class=\"tex2jax_ignore\"><div class=\"entities\" style=\"line-height: 2.5; direction: ltr\">He added that people expect their personal information to be respected, regardless of where in the world their data is being used.</div></span>"
      ],
      "text/plain": [
       "<IPython.core.display.HTML object>"
      ]
     },
     "metadata": {},
     "output_type": "display_data"
    }
   ],
   "source": [
    "for sent in doc.sents:\n",
    "    displacy.render(nlp(sent.text), style='ent', jupyter=True)"
   ]
  },
  {
   "cell_type": "markdown",
   "metadata": {
    "id": "jUajowN9wqaz"
   },
   "source": [
    "## Styling: customize color and effects\n",
    "You can also pass background color and gradient options:"
   ]
  },
  {
   "cell_type": "code",
   "execution_count": 17,
   "metadata": {
    "colab": {
     "base_uri": "https://localhost:8080/",
     "height": 647
    },
    "id": "8T_JNpA8wqaz",
    "outputId": "df721d58-c1ed-4b4d-c193-46e0daaa173b"
   },
   "outputs": [
    {
     "data": {
      "text/html": [
       "<span class=\"tex2jax_ignore\"><div class=\"entities\" style=\"line-height: 2.5; direction: ltr\">\n",
       "<mark class=\"entity\" style=\"background: #7aecec; padding: 0.45em 0.6em; margin: 0 0.25em; line-height: 1; border-radius: 0.35em;\">\n",
       "    Clearview AI\n",
       "    <span style=\"font-size: 0.8em; font-weight: bold; line-height: 1; border-radius: 0.35em; vertical-align: middle; margin-left: 0.5rem\">ORG</span>\n",
       "</mark>\n",
       ", a New York-headquartered facial recognition company, has been fined £7.5 million ($9.4 million) by a U.K. privacy regulator.<br><br>Over the last few years, the firm has collected images from the web and social media of people in Britain and elsewhere to create a global online database that can be used by law enforcement for facial recognition.<br><br>\n",
       "<mark class=\"entity\" style=\"background: #7aecec; padding: 0.45em 0.6em; margin: 0 0.25em; line-height: 1; border-radius: 0.35em;\">\n",
       "    The Information Commission’s Office\n",
       "    <span style=\"font-size: 0.8em; font-weight: bold; line-height: 1; border-radius: 0.35em; vertical-align: middle; margin-left: 0.5rem\">ORG</span>\n",
       "</mark>\n",
       " said Monday that the company has breached U.K. data protection laws.<br><br>The \n",
       "<mark class=\"entity\" style=\"background: #7aecec; padding: 0.45em 0.6em; margin: 0 0.25em; line-height: 1; border-radius: 0.35em;\">\n",
       "    ICO\n",
       "    <span style=\"font-size: 0.8em; font-weight: bold; line-height: 1; border-radius: 0.35em; vertical-align: middle; margin-left: 0.5rem\">ORG</span>\n",
       "</mark>\n",
       " has ordered \n",
       "<mark class=\"entity\" style=\"background: #7aecec; padding: 0.45em 0.6em; margin: 0 0.25em; line-height: 1; border-radius: 0.35em;\">\n",
       "    Clearview\n",
       "    <span style=\"font-size: 0.8em; font-weight: bold; line-height: 1; border-radius: 0.35em; vertical-align: middle; margin-left: 0.5rem\">ORG</span>\n",
       "</mark>\n",
       " to delete data it has on U.K. residents and banned it from collecting any more.<br><br>\n",
       "<mark class=\"entity\" style=\"background: #7aecec; padding: 0.45em 0.6em; margin: 0 0.25em; line-height: 1; border-radius: 0.35em;\">\n",
       "    Clearview\n",
       "    <span style=\"font-size: 0.8em; font-weight: bold; line-height: 1; border-radius: 0.35em; vertical-align: middle; margin-left: 0.5rem\">ORG</span>\n",
       "</mark>\n",
       " writes on its website that it has collected more than 20 billion facial images of people around the world. It collects publicly posted images from social media platforms like \n",
       "<mark class=\"entity\" style=\"background: #7aecec; padding: 0.45em 0.6em; margin: 0 0.25em; line-height: 1; border-radius: 0.35em;\">\n",
       "    Facebook and Instagram\n",
       "    <span style=\"font-size: 0.8em; font-weight: bold; line-height: 1; border-radius: 0.35em; vertical-align: middle; margin-left: 0.5rem\">ORG</span>\n",
       "</mark>\n",
       ", as well as news media, mugshot websites and other open sources. It does so without informing the individuals or asking for their consent.<br><br>\n",
       "<mark class=\"entity\" style=\"background: #7aecec; padding: 0.45em 0.6em; margin: 0 0.25em; line-height: 1; border-radius: 0.35em;\">\n",
       "    Clearview\n",
       "    <span style=\"font-size: 0.8em; font-weight: bold; line-height: 1; border-radius: 0.35em; vertical-align: middle; margin-left: 0.5rem\">ORG</span>\n",
       "</mark>\n",
       "’s platform allows law enforcement agencies to upload a photo of an individual and try to match it to photos that are stored in \n",
       "<mark class=\"entity\" style=\"background: #7aecec; padding: 0.45em 0.6em; margin: 0 0.25em; line-height: 1; border-radius: 0.35em;\">\n",
       "    Clearview\n",
       "    <span style=\"font-size: 0.8em; font-weight: bold; line-height: 1; border-radius: 0.35em; vertical-align: middle; margin-left: 0.5rem\">ORG</span>\n",
       "</mark>\n",
       "’s database.<br><br>John Edwards, the U.K.’s information commissioner, said in a statement: “The company not only enables identification of those people, but effectively monitors their behavior and offers it as a commercial service. That is unacceptable.”<br><br>He added that people expect their personal information to be respected, regardless of where in the world their data is being used.</div></span>"
      ],
      "text/plain": [
       "<IPython.core.display.HTML object>"
      ]
     },
     "metadata": {},
     "output_type": "display_data"
    }
   ],
   "source": [
    "options = {'ents': ['ORG', 'PRODUCT']}\n",
    "\n",
    "displacy.render(doc, style='ent', jupyter=True, options=options)"
   ]
  },
  {
   "cell_type": "code",
   "execution_count": 18,
   "metadata": {
    "colab": {
     "base_uri": "https://localhost:8080/",
     "height": 647
    },
    "id": "gvkjLJHWwqaz",
    "outputId": "864709e1-4034-4e9d-bd2d-756b70e22af4"
   },
   "outputs": [
    {
     "data": {
      "text/html": [
       "<span class=\"tex2jax_ignore\"><div class=\"entities\" style=\"line-height: 2.5; direction: ltr\">\n",
       "<mark class=\"entity\" style=\"background: linear-gradient(90deg, #f2c707, #dc9ce7); padding: 0.45em 0.6em; margin: 0 0.25em; line-height: 1; border-radius: 0.35em;\">\n",
       "    Clearview AI\n",
       "    <span style=\"font-size: 0.8em; font-weight: bold; line-height: 1; border-radius: 0.35em; vertical-align: middle; margin-left: 0.5rem\">ORG</span>\n",
       "</mark>\n",
       ", a New York-headquartered facial recognition company, has been fined £7.5 million ($9.4 million) by a U.K. privacy regulator.<br><br>Over the last few years, the firm has collected images from the web and social media of people in Britain and elsewhere to create a global online database that can be used by law enforcement for facial recognition.<br><br>\n",
       "<mark class=\"entity\" style=\"background: linear-gradient(90deg, #f2c707, #dc9ce7); padding: 0.45em 0.6em; margin: 0 0.25em; line-height: 1; border-radius: 0.35em;\">\n",
       "    The Information Commission’s Office\n",
       "    <span style=\"font-size: 0.8em; font-weight: bold; line-height: 1; border-radius: 0.35em; vertical-align: middle; margin-left: 0.5rem\">ORG</span>\n",
       "</mark>\n",
       " said Monday that the company has breached U.K. data protection laws.<br><br>The \n",
       "<mark class=\"entity\" style=\"background: linear-gradient(90deg, #f2c707, #dc9ce7); padding: 0.45em 0.6em; margin: 0 0.25em; line-height: 1; border-radius: 0.35em;\">\n",
       "    ICO\n",
       "    <span style=\"font-size: 0.8em; font-weight: bold; line-height: 1; border-radius: 0.35em; vertical-align: middle; margin-left: 0.5rem\">ORG</span>\n",
       "</mark>\n",
       " has ordered \n",
       "<mark class=\"entity\" style=\"background: linear-gradient(90deg, #f2c707, #dc9ce7); padding: 0.45em 0.6em; margin: 0 0.25em; line-height: 1; border-radius: 0.35em;\">\n",
       "    Clearview\n",
       "    <span style=\"font-size: 0.8em; font-weight: bold; line-height: 1; border-radius: 0.35em; vertical-align: middle; margin-left: 0.5rem\">ORG</span>\n",
       "</mark>\n",
       " to delete data it has on U.K. residents and banned it from collecting any more.<br><br>\n",
       "<mark class=\"entity\" style=\"background: linear-gradient(90deg, #f2c707, #dc9ce7); padding: 0.45em 0.6em; margin: 0 0.25em; line-height: 1; border-radius: 0.35em;\">\n",
       "    Clearview\n",
       "    <span style=\"font-size: 0.8em; font-weight: bold; line-height: 1; border-radius: 0.35em; vertical-align: middle; margin-left: 0.5rem\">ORG</span>\n",
       "</mark>\n",
       " writes on its website that it has collected more than 20 billion facial images of people around the world. It collects publicly posted images from social media platforms like \n",
       "<mark class=\"entity\" style=\"background: linear-gradient(90deg, #f2c707, #dc9ce7); padding: 0.45em 0.6em; margin: 0 0.25em; line-height: 1; border-radius: 0.35em;\">\n",
       "    Facebook and Instagram\n",
       "    <span style=\"font-size: 0.8em; font-weight: bold; line-height: 1; border-radius: 0.35em; vertical-align: middle; margin-left: 0.5rem\">ORG</span>\n",
       "</mark>\n",
       ", as well as news media, mugshot websites and other open sources. It does so without informing the individuals or asking for their consent.<br><br>\n",
       "<mark class=\"entity\" style=\"background: linear-gradient(90deg, #f2c707, #dc9ce7); padding: 0.45em 0.6em; margin: 0 0.25em; line-height: 1; border-radius: 0.35em;\">\n",
       "    Clearview\n",
       "    <span style=\"font-size: 0.8em; font-weight: bold; line-height: 1; border-radius: 0.35em; vertical-align: middle; margin-left: 0.5rem\">ORG</span>\n",
       "</mark>\n",
       "’s platform allows law enforcement agencies to upload a photo of an individual and try to match it to photos that are stored in \n",
       "<mark class=\"entity\" style=\"background: linear-gradient(90deg, #f2c707, #dc9ce7); padding: 0.45em 0.6em; margin: 0 0.25em; line-height: 1; border-radius: 0.35em;\">\n",
       "    Clearview\n",
       "    <span style=\"font-size: 0.8em; font-weight: bold; line-height: 1; border-radius: 0.35em; vertical-align: middle; margin-left: 0.5rem\">ORG</span>\n",
       "</mark>\n",
       "’s database.<br><br>John Edwards, the U.K.’s information commissioner, said in a statement: “The company not only enables identification of those people, but effectively monitors their behavior and offers it as a commercial service. That is unacceptable.”<br><br>He added that people expect their personal information to be respected, regardless of where in the world their data is being used.</div></span>"
      ],
      "text/plain": [
       "<IPython.core.display.HTML object>"
      ]
     },
     "metadata": {},
     "output_type": "display_data"
    }
   ],
   "source": [
    "colors = {'ORG': 'linear-gradient(90deg, #f2c707, #dc9ce7)', 'PRODUCT': 'radial-gradient(white, green)'}\n",
    "\n",
    "options = {'ents': ['ORG', 'PRODUCT'], 'colors':colors}\n",
    "\n",
    "displacy.render(doc, style='ent', jupyter=True, options=options)"
   ]
  },
  {
   "cell_type": "code",
   "execution_count": 19,
   "metadata": {
    "colab": {
     "base_uri": "https://localhost:8080/",
     "height": 647
    },
    "id": "0HtuGRJsTHO9",
    "outputId": "205e9bc6-b09b-4a64-ceab-a25168305824"
   },
   "outputs": [
    {
     "data": {
      "text/html": [
       "<span class=\"tex2jax_ignore\"><div class=\"entities\" style=\"line-height: 2.5; direction: ltr\">\n",
       "<mark class=\"entity\" style=\"background: linear-gradient(90deg,#aa9cde,#dc9ce7); padding: 0.45em 0.6em; margin: 0 0.25em; line-height: 1; border-radius: 0.35em;\">\n",
       "    Clearview AI\n",
       "    <span style=\"font-size: 0.8em; font-weight: bold; line-height: 1; border-radius: 0.35em; vertical-align: middle; margin-left: 0.5rem\">ORG</span>\n",
       "</mark>\n",
       ", a \n",
       "<mark class=\"entity\" style=\"background: #feca74; padding: 0.45em 0.6em; margin: 0 0.25em; line-height: 1; border-radius: 0.35em;\">\n",
       "    New York\n",
       "    <span style=\"font-size: 0.8em; font-weight: bold; line-height: 1; border-radius: 0.35em; vertical-align: middle; margin-left: 0.5rem\">GPE</span>\n",
       "</mark>\n",
       "-headquartered facial recognition company, has been fined \n",
       "<mark class=\"entity\" style=\"background: #e4e7d2; padding: 0.45em 0.6em; margin: 0 0.25em; line-height: 1; border-radius: 0.35em;\">\n",
       "    £7.5 million\n",
       "    <span style=\"font-size: 0.8em; font-weight: bold; line-height: 1; border-radius: 0.35em; vertical-align: middle; margin-left: 0.5rem\">MONEY</span>\n",
       "</mark>\n",
       " (\n",
       "<mark class=\"entity\" style=\"background: #e4e7d2; padding: 0.45em 0.6em; margin: 0 0.25em; line-height: 1; border-radius: 0.35em;\">\n",
       "    $9.4 million\n",
       "    <span style=\"font-size: 0.8em; font-weight: bold; line-height: 1; border-radius: 0.35em; vertical-align: middle; margin-left: 0.5rem\">MONEY</span>\n",
       "</mark>\n",
       ") by a \n",
       "<mark class=\"entity\" style=\"background: #feca74; padding: 0.45em 0.6em; margin: 0 0.25em; line-height: 1; border-radius: 0.35em;\">\n",
       "    U.K.\n",
       "    <span style=\"font-size: 0.8em; font-weight: bold; line-height: 1; border-radius: 0.35em; vertical-align: middle; margin-left: 0.5rem\">GPE</span>\n",
       "</mark>\n",
       " privacy regulator.<br><br>Over \n",
       "<mark class=\"entity\" style=\"background: #bfe1d9; padding: 0.45em 0.6em; margin: 0 0.25em; line-height: 1; border-radius: 0.35em;\">\n",
       "    the last few years\n",
       "    <span style=\"font-size: 0.8em; font-weight: bold; line-height: 1; border-radius: 0.35em; vertical-align: middle; margin-left: 0.5rem\">DATE</span>\n",
       "</mark>\n",
       ", the firm has collected images from the web and social media of people in \n",
       "<mark class=\"entity\" style=\"background: #feca74; padding: 0.45em 0.6em; margin: 0 0.25em; line-height: 1; border-radius: 0.35em;\">\n",
       "    Britain\n",
       "    <span style=\"font-size: 0.8em; font-weight: bold; line-height: 1; border-radius: 0.35em; vertical-align: middle; margin-left: 0.5rem\">GPE</span>\n",
       "</mark>\n",
       " and elsewhere to create a global online database that can be used by law enforcement for facial recognition.<br><br>\n",
       "<mark class=\"entity\" style=\"background: linear-gradient(90deg,#aa9cde,#dc9ce7); padding: 0.45em 0.6em; margin: 0 0.25em; line-height: 1; border-radius: 0.35em;\">\n",
       "    The Information Commission’s Office\n",
       "    <span style=\"font-size: 0.8em; font-weight: bold; line-height: 1; border-radius: 0.35em; vertical-align: middle; margin-left: 0.5rem\">ORG</span>\n",
       "</mark>\n",
       " said \n",
       "<mark class=\"entity\" style=\"background: #bfe1d9; padding: 0.45em 0.6em; margin: 0 0.25em; line-height: 1; border-radius: 0.35em;\">\n",
       "    Monday\n",
       "    <span style=\"font-size: 0.8em; font-weight: bold; line-height: 1; border-radius: 0.35em; vertical-align: middle; margin-left: 0.5rem\">DATE</span>\n",
       "</mark>\n",
       " that the company has breached \n",
       "<mark class=\"entity\" style=\"background: #feca74; padding: 0.45em 0.6em; margin: 0 0.25em; line-height: 1; border-radius: 0.35em;\">\n",
       "    U.K.\n",
       "    <span style=\"font-size: 0.8em; font-weight: bold; line-height: 1; border-radius: 0.35em; vertical-align: middle; margin-left: 0.5rem\">GPE</span>\n",
       "</mark>\n",
       " data protection laws.<br><br>The \n",
       "<mark class=\"entity\" style=\"background: linear-gradient(90deg,#aa9cde,#dc9ce7); padding: 0.45em 0.6em; margin: 0 0.25em; line-height: 1; border-radius: 0.35em;\">\n",
       "    ICO\n",
       "    <span style=\"font-size: 0.8em; font-weight: bold; line-height: 1; border-radius: 0.35em; vertical-align: middle; margin-left: 0.5rem\">ORG</span>\n",
       "</mark>\n",
       " has ordered \n",
       "<mark class=\"entity\" style=\"background: linear-gradient(90deg,#aa9cde,#dc9ce7); padding: 0.45em 0.6em; margin: 0 0.25em; line-height: 1; border-radius: 0.35em;\">\n",
       "    Clearview\n",
       "    <span style=\"font-size: 0.8em; font-weight: bold; line-height: 1; border-radius: 0.35em; vertical-align: middle; margin-left: 0.5rem\">ORG</span>\n",
       "</mark>\n",
       " to delete data it has on \n",
       "<mark class=\"entity\" style=\"background: #feca74; padding: 0.45em 0.6em; margin: 0 0.25em; line-height: 1; border-radius: 0.35em;\">\n",
       "    U.K.\n",
       "    <span style=\"font-size: 0.8em; font-weight: bold; line-height: 1; border-radius: 0.35em; vertical-align: middle; margin-left: 0.5rem\">GPE</span>\n",
       "</mark>\n",
       " residents and banned it from collecting any more.<br><br>\n",
       "<mark class=\"entity\" style=\"background: linear-gradient(90deg,#aa9cde,#dc9ce7); padding: 0.45em 0.6em; margin: 0 0.25em; line-height: 1; border-radius: 0.35em;\">\n",
       "    Clearview\n",
       "    <span style=\"font-size: 0.8em; font-weight: bold; line-height: 1; border-radius: 0.35em; vertical-align: middle; margin-left: 0.5rem\">ORG</span>\n",
       "</mark>\n",
       " writes on its website that it has collected \n",
       "<mark class=\"entity\" style=\"background: #e4e7d2; padding: 0.45em 0.6em; margin: 0 0.25em; line-height: 1; border-radius: 0.35em;\">\n",
       "    more than 20 billion\n",
       "    <span style=\"font-size: 0.8em; font-weight: bold; line-height: 1; border-radius: 0.35em; vertical-align: middle; margin-left: 0.5rem\">MONEY</span>\n",
       "</mark>\n",
       " facial images of people around the world. It collects publicly posted images from social media platforms like \n",
       "<mark class=\"entity\" style=\"background: linear-gradient(90deg,#aa9cde,#dc9ce7); padding: 0.45em 0.6em; margin: 0 0.25em; line-height: 1; border-radius: 0.35em;\">\n",
       "    Facebook and Instagram\n",
       "    <span style=\"font-size: 0.8em; font-weight: bold; line-height: 1; border-radius: 0.35em; vertical-align: middle; margin-left: 0.5rem\">ORG</span>\n",
       "</mark>\n",
       ", as well as news media, mugshot websites and other open sources. It does so without informing the individuals or asking for their consent.<br><br>\n",
       "<mark class=\"entity\" style=\"background: linear-gradient(90deg,#aa9cde,#dc9ce7); padding: 0.45em 0.6em; margin: 0 0.25em; line-height: 1; border-radius: 0.35em;\">\n",
       "    Clearview\n",
       "    <span style=\"font-size: 0.8em; font-weight: bold; line-height: 1; border-radius: 0.35em; vertical-align: middle; margin-left: 0.5rem\">ORG</span>\n",
       "</mark>\n",
       "’s platform allows law enforcement agencies to upload a photo of an individual and try to match it to photos that are stored in \n",
       "<mark class=\"entity\" style=\"background: linear-gradient(90deg,#aa9cde,#dc9ce7); padding: 0.45em 0.6em; margin: 0 0.25em; line-height: 1; border-radius: 0.35em;\">\n",
       "    Clearview\n",
       "    <span style=\"font-size: 0.8em; font-weight: bold; line-height: 1; border-radius: 0.35em; vertical-align: middle; margin-left: 0.5rem\">ORG</span>\n",
       "</mark>\n",
       "’s database.<br><br>\n",
       "<mark class=\"entity\" style=\"background: #aa9cfc; padding: 0.45em 0.6em; margin: 0 0.25em; line-height: 1; border-radius: 0.35em;\">\n",
       "    John Edwards\n",
       "    <span style=\"font-size: 0.8em; font-weight: bold; line-height: 1; border-radius: 0.35em; vertical-align: middle; margin-left: 0.5rem\">PERSON</span>\n",
       "</mark>\n",
       ", the \n",
       "<mark class=\"entity\" style=\"background: #feca74; padding: 0.45em 0.6em; margin: 0 0.25em; line-height: 1; border-radius: 0.35em;\">\n",
       "    U.K.\n",
       "    <span style=\"font-size: 0.8em; font-weight: bold; line-height: 1; border-radius: 0.35em; vertical-align: middle; margin-left: 0.5rem\">GPE</span>\n",
       "</mark>\n",
       "’s information commissioner, said in a statement: “The company not only enables identification of those people, but effectively monitors their behavior and offers it as a commercial service. That is unacceptable.”<br><br>He added that people expect their personal information to be respected, regardless of where in the world their data is being used.</div></span>"
      ],
      "text/plain": [
       "<IPython.core.display.HTML object>"
      ]
     },
     "metadata": {},
     "output_type": "display_data"
    }
   ],
   "source": [
    "colors = {'ORG':'linear-gradient(90deg,#aa9cde,#dc9ce7)','PRODUCT':'radial-gradient(white,red)'}\n",
    "options = {'ent':['ORG','PRODUCT'],'colors':colors}\n",
    "displacy.render(doc,style='ent',jupyter=True,options=options)"
   ]
  },
  {
   "cell_type": "markdown",
   "metadata": {
    "id": "DHD99RKNwqax"
   },
   "source": [
    "### Adding Named Entities to All Matching Spans\n",
    "What if we want to tag *all* occurrences of a token? In this section we show how to use the PhraseMatcher to identify a series of spans in the Doc:"
   ]
  },
  {
   "cell_type": "code",
   "execution_count": 20,
   "metadata": {
    "colab": {
     "base_uri": "https://localhost:8080/"
    },
    "id": "O2kbIcyPwqax",
    "outputId": "bf5ae104-bb5e-400d-cda0-83d3897e5793"
   },
   "outputs": [
    {
     "name": "stdout",
     "output_type": "stream",
     "text": [
      "first - 99 - 104 - ORDINAL - \"first\", \"second\", etc.\n"
     ]
    }
   ],
   "source": [
    "doc = nlp(u'Our company plans to introduce a new vacuum cleaner. '\n",
    "          u'If successful, the vacuum cleaner will be our first product.')\n",
    "\n",
    "show_ents(doc)"
   ]
  },
  {
   "cell_type": "code",
   "execution_count": 21,
   "metadata": {
    "id": "CYdXxWyCwqax"
   },
   "outputs": [],
   "source": [
    "# Import PhraseMatcher and create a matcher object:\n",
    "from spacy.matcher import PhraseMatcher\n",
    "matcher = PhraseMatcher(nlp.vocab)"
   ]
  },
  {
   "cell_type": "code",
   "execution_count": 22,
   "metadata": {
    "id": "9sb2GI1_wqax"
   },
   "outputs": [],
   "source": [
    "# Create the desired phrase patterns:\n",
    "phrase_list = ['vacuum cleaner', 'vacuum-cleaner']\n",
    "phrase_patterns = [nlp(text) for text in phrase_list]"
   ]
  },
  {
   "cell_type": "code",
   "execution_count": 23,
   "metadata": {
    "colab": {
     "base_uri": "https://localhost:8080/"
    },
    "id": "U5tp9L1Dwqax",
    "outputId": "31b97add-47ec-41fc-eb16-3bc3cfe30c6b"
   },
   "outputs": [
    {
     "data": {
      "text/plain": [
       "[(2689272359382549672, 7, 9), (2689272359382549672, 14, 16)]"
      ]
     },
     "execution_count": 23,
     "metadata": {},
     "output_type": "execute_result"
    }
   ],
   "source": [
    "# Apply the patterns to our matcher object:\n",
    "matcher.add('newproduct', None, *phrase_patterns)\n",
    "\n",
    "# Apply the matcher to our Doc object:\n",
    "matches = matcher(doc)\n",
    "\n",
    "# See what matches occur:\n",
    "matches"
   ]
  },
  {
   "cell_type": "code",
   "execution_count": 24,
   "metadata": {
    "id": "PuKpegTgwqay"
   },
   "outputs": [],
   "source": [
    "# Here we create Spans from each match, and create named entities from them:\n",
    "from spacy.tokens import Span\n",
    "\n",
    "PROD = doc.vocab.strings[u'PRODUCT']\n",
    "\n",
    "new_ents = [Span(doc, match[1],match[2],label=PROD) for match in matches]\n",
    "# match[1] contains the start index of the the token and match[2] the stop index (exclusive) of the token in the doc.\n",
    "\n",
    "doc.ents = list(doc.ents) + new_ents"
   ]
  },
  {
   "cell_type": "code",
   "execution_count": 25,
   "metadata": {
    "colab": {
     "base_uri": "https://localhost:8080/"
    },
    "id": "bbSSwc6Zwqay",
    "outputId": "4f6bca46-b7ac-4c14-de19-6bccdd419876"
   },
   "outputs": [
    {
     "name": "stdout",
     "output_type": "stream",
     "text": [
      "vacuum cleaner - 37 - 51 - PRODUCT - Objects, vehicles, foods, etc. (not services)\n",
      "vacuum cleaner - 72 - 86 - PRODUCT - Objects, vehicles, foods, etc. (not services)\n",
      "first - 99 - 104 - ORDINAL - \"first\", \"second\", etc.\n"
     ]
    }
   ],
   "source": [
    "show_ents(doc)"
   ]
  },
  {
   "cell_type": "code",
   "execution_count": 26,
   "metadata": {
    "colab": {
     "base_uri": "https://localhost:8080/"
    },
    "id": "EjSC0dVhwqay",
    "outputId": "53ae0594-cc1e-400b-a61d-43d8b0850737"
   },
   "outputs": [
    {
     "name": "stdout",
     "output_type": "stream",
     "text": [
      "29.50 - 22 - 27 - MONEY - Monetary values, including unit\n",
      "five dollars - 60 - 72 - MONEY - Monetary values, including unit\n"
     ]
    }
   ],
   "source": [
    "doc = nlp(u'Originally priced at $29.50, the sweater was marked down to five dollars.')\n",
    "\n",
    "show_ents(doc)"
   ]
  },
  {
   "cell_type": "code",
   "execution_count": 27,
   "metadata": {
    "colab": {
     "base_uri": "https://localhost:8080/"
    },
    "id": "Mt6YhM9qwqay",
    "outputId": "474c0249-2730-4ed4-ce24-9fbb6fa8b3ca"
   },
   "outputs": [
    {
     "data": {
      "text/plain": [
       "2"
      ]
     },
     "execution_count": 27,
     "metadata": {},
     "output_type": "execute_result"
    }
   ],
   "source": [
    "len([ent for ent in doc.ents if ent.label_=='MONEY'])"
   ]
  }
 ],
 "metadata": {
  "colab": {
   "include_colab_link": true,
   "provenance": []
  },
  "kernelspec": {
   "display_name": "Python 3",
   "language": "python",
   "name": "python3"
  },
  "language_info": {
   "codemirror_mode": {
    "name": "ipython",
    "version": 3
   },
   "file_extension": ".py",
   "mimetype": "text/x-python",
   "name": "python",
   "nbconvert_exporter": "python",
   "pygments_lexer": "ipython3",
   "version": "3.12.6"
  }
 },
 "nbformat": 4,
 "nbformat_minor": 0
}
